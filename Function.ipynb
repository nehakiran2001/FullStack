{
  "nbformat": 4,
  "nbformat_minor": 0,
  "metadata": {
    "colab": {
      "name": "Function.ipynb",
      "provenance": [],
      "collapsed_sections": [],
      "authorship_tag": "ABX9TyOQ4hNosHPSWP/KwjPQsVP5",
      "include_colab_link": true
    },
    "kernelspec": {
      "name": "python3",
      "display_name": "Python 3"
    },
    "language_info": {
      "name": "python"
    }
  },
  "cells": [
    {
      "cell_type": "markdown",
      "metadata": {
        "id": "view-in-github",
        "colab_type": "text"
      },
      "source": [
        "<a href=\"https://colab.research.google.com/github/nehakiran2001/FullStack/blob/main/Function.ipynb\" target=\"_parent\"><img src=\"https://colab.research.google.com/assets/colab-badge.svg\" alt=\"Open In Colab\"/></a>"
      ]
    },
    {
      "cell_type": "code",
      "metadata": {
        "colab": {
          "base_uri": "https://localhost:8080/"
        },
        "id": "4Mx6CPIMRt4R",
        "outputId": "896ef3b6-8eb7-4a8c-c8c9-1a3a0b52d895"
      },
      "source": [
        "#Create a Function\n",
        "def add():\n",
        "\n",
        "  print(\"addition function\")\n",
        "add()"
      ],
      "execution_count": null,
      "outputs": [
        {
          "output_type": "stream",
          "name": "stdout",
          "text": [
            "addition function\n"
          ]
        }
      ]
    },
    {
      "cell_type": "code",
      "metadata": {
        "colab": {
          "base_uri": "https://localhost:8080/"
        },
        "id": "-ESsPZj7SsCT",
        "outputId": "349203a0-5237-4a0f-968d-afd72e86f60a"
      },
      "source": [
        "#Arguement\n",
        "def add(a,b):\n",
        "  print(\"Addition function result:\",a+b)\n",
        "add(1,2)"
      ],
      "execution_count": null,
      "outputs": [
        {
          "output_type": "stream",
          "name": "stdout",
          "text": [
            "Addition function result: 3\n"
          ]
        }
      ]
    },
    {
      "cell_type": "code",
      "metadata": {
        "colab": {
          "base_uri": "https://localhost:8080/",
          "height": 203
        },
        "id": "jvtzi4HGTWdW",
        "outputId": "74d657e4-f27c-4ad2-9cef-81d01b111653"
      },
      "source": [
        "#Argument error\n",
        "def add(a,b):\n",
        "  print(\"Addition function result:\",a+b,\"this is for demo\")\n",
        "add(1)"
      ],
      "execution_count": null,
      "outputs": [
        {
          "output_type": "error",
          "ename": "TypeError",
          "evalue": "ignored",
          "traceback": [
            "\u001b[0;31m---------------------------------------------------------------------------\u001b[0m",
            "\u001b[0;31mTypeError\u001b[0m                                 Traceback (most recent call last)",
            "\u001b[0;32m<ipython-input-6-7aceff2fd9b3>\u001b[0m in \u001b[0;36m<module>\u001b[0;34m()\u001b[0m\n\u001b[1;32m      2\u001b[0m \u001b[0;32mdef\u001b[0m \u001b[0madd\u001b[0m\u001b[0;34m(\u001b[0m\u001b[0ma\u001b[0m\u001b[0;34m,\u001b[0m\u001b[0mb\u001b[0m\u001b[0;34m)\u001b[0m\u001b[0;34m:\u001b[0m\u001b[0;34m\u001b[0m\u001b[0;34m\u001b[0m\u001b[0m\n\u001b[1;32m      3\u001b[0m   \u001b[0mprint\u001b[0m\u001b[0;34m(\u001b[0m\u001b[0;34m\"Addition function result:\"\u001b[0m\u001b[0;34m,\u001b[0m\u001b[0ma\u001b[0m\u001b[0;34m+\u001b[0m\u001b[0mb\u001b[0m\u001b[0;34m,\u001b[0m\u001b[0;34m\"this is for demo\"\u001b[0m\u001b[0;34m)\u001b[0m\u001b[0;34m\u001b[0m\u001b[0;34m\u001b[0m\u001b[0m\n\u001b[0;32m----> 4\u001b[0;31m \u001b[0madd\u001b[0m\u001b[0;34m(\u001b[0m\u001b[0;36m1\u001b[0m\u001b[0;34m)\u001b[0m\u001b[0;34m\u001b[0m\u001b[0;34m\u001b[0m\u001b[0m\n\u001b[0m",
            "\u001b[0;31mTypeError\u001b[0m: add() missing 1 required positional argument: 'b'"
          ]
        }
      ]
    },
    {
      "cell_type": "code",
      "metadata": {
        "colab": {
          "base_uri": "https://localhost:8080/"
        },
        "id": "70b7boBHT0o4",
        "outputId": "39cd149d-14bd-458b-d6cf-9a65b9adfc85"
      },
      "source": [
        "#Arbitrary Argument\n",
        "def arb_arg_fun(*nums):\n",
        "  print(\"The third number is\",nums[2])\n",
        "arb_arg_fun(23,34,35) "
      ],
      "execution_count": null,
      "outputs": [
        {
          "output_type": "stream",
          "name": "stdout",
          "text": [
            "The third number is 35\n"
          ]
        }
      ]
    },
    {
      "cell_type": "code",
      "metadata": {
        "colab": {
          "base_uri": "https://localhost:8080/"
        },
        "id": "V4de6TkKUhVZ",
        "outputId": "c21e7234-e10c-47ad-cf3c-0a8db2d70f52"
      },
      "source": [
        "#Keyword Argument\n",
        "def key_arg_fun(n1,n2,n3):\n",
        "  print(\"The third number is\",n3)\n",
        "key_arg_fun(n3=15,n1=20,n2=35)"
      ],
      "execution_count": null,
      "outputs": [
        {
          "output_type": "stream",
          "name": "stdout",
          "text": [
            "The third number is 15\n"
          ]
        }
      ]
    },
    {
      "cell_type": "code",
      "metadata": {
        "colab": {
          "base_uri": "https://localhost:8080/"
        },
        "id": "mPAKh5IfU7qv",
        "outputId": "3c4873a0-7ed5-4630-bc98-708aed3af8d1"
      },
      "source": [
        "#Arbitrary Keyword Argument\n",
        "def arb_key_arg_fun(**nums):\n",
        "  print(\"The third number is\",nums[\"n1\"])\n",
        "arb_key_arg_fun(n3=24,n1=34,n2=45)"
      ],
      "execution_count": null,
      "outputs": [
        {
          "output_type": "stream",
          "name": "stdout",
          "text": [
            "The third number is 34\n"
          ]
        }
      ]
    },
    {
      "cell_type": "code",
      "metadata": {
        "colab": {
          "base_uri": "https://localhost:8080/"
        },
        "id": "mOTPepxGV9Jc",
        "outputId": "df1b2b01-11d2-43f3-ffd6-523e8e635636"
      },
      "source": [
        "#Default Parameter\n",
        "def def_fun(num=350):\n",
        "  print(\"The number is:\",num)\n",
        "def_fun(23)\n",
        "def_fun(34)\n",
        "def_fun()"
      ],
      "execution_count": null,
      "outputs": [
        {
          "output_type": "stream",
          "name": "stdout",
          "text": [
            "The number is: 23\n",
            "The number is: 34\n",
            "The number is: 350\n"
          ]
        }
      ]
    },
    {
      "cell_type": "code",
      "metadata": {
        "colab": {
          "base_uri": "https://localhost:8080/"
        },
        "id": "ZHK60ElMWrUA",
        "outputId": "82277e4f-5bb2-48e7-eb25-59d49ef3ce18"
      },
      "source": [
        "#Passing a List as a Argument\n",
        "def rno(nums):\n",
        "  print(\"The roll numbers\",nums)\n",
        "sno=[34,45,23]\n",
        "rno(sno)"
      ],
      "execution_count": null,
      "outputs": [
        {
          "output_type": "stream",
          "name": "stdout",
          "text": [
            "The roll numbers [34, 45, 23]\n"
          ]
        }
      ]
    },
    {
      "cell_type": "code",
      "metadata": {
        "colab": {
          "base_uri": "https://localhost:8080/"
        },
        "id": "zQRBwpSvXBAr",
        "outputId": "dd40a728-467b-4377-9918-8449b70f59d5"
      },
      "source": [
        "#Return Values\n",
        "def gracemarks(num):\n",
        "  return 2+num\n",
        "n=gracemarks(34)\n",
        "print(n)"
      ],
      "execution_count": null,
      "outputs": [
        {
          "output_type": "stream",
          "name": "stdout",
          "text": [
            "36\n"
          ]
        }
      ]
    },
    {
      "cell_type": "code",
      "metadata": {
        "id": "iocXD559XTP1",
        "colab": {
          "base_uri": "https://localhost:8080/",
          "height": 132
        },
        "outputId": "4cfa9a7c-9219-4795-cec1-95c5a4911d83"
      },
      "source": [
        "#Pass Statement\n",
        "def function():\n"
      ],
      "execution_count": null,
      "outputs": [
        {
          "output_type": "error",
          "ename": "SyntaxError",
          "evalue": "ignored",
          "traceback": [
            "\u001b[0;36m  File \u001b[0;32m\"<ipython-input-7-019163f93162>\"\u001b[0;36m, line \u001b[0;32m2\u001b[0m\n\u001b[0;31m    def function():\u001b[0m\n\u001b[0m                   ^\u001b[0m\n\u001b[0;31mSyntaxError\u001b[0m\u001b[0;31m:\u001b[0m unexpected EOF while parsing\n"
          ]
        }
      ]
    },
    {
      "cell_type": "code",
      "metadata": {
        "colab": {
          "base_uri": "https://localhost:8080/"
        },
        "id": "UPDJgvlFXemH",
        "outputId": "b4b4da1b-6d53-45a7-9a10-7434ccea34bb"
      },
      "source": [
        "#Recursion\n",
        "def fact(num):\n",
        "  if num == 1:\n",
        "    return 1\n",
        "  else:\n",
        "    return num*fact(num-1)\n",
        "n=fact(4)\n",
        "print(n)  "
      ],
      "execution_count": null,
      "outputs": [
        {
          "output_type": "stream",
          "name": "stdout",
          "text": [
            "24\n"
          ]
        }
      ]
    },
    {
      "cell_type": "code",
      "metadata": {
        "id": "o2YK1tqkX2_3",
        "colab": {
          "base_uri": "https://localhost:8080/"
        },
        "outputId": "fdbe3337-fd8e-4934-e3e2-87be6bece3ee"
      },
      "source": [
        "#function that return lesser of two numbers if both are even and returns greater if both are odd\n",
        "def odd(a,b):\n",
        "  if a<b:\n",
        "    return b\n",
        "  else:\n",
        "    return a\n",
        "def even(c,d):\n",
        "  if c<d:\n",
        "    return c\n",
        "  else:\n",
        "    return d  \n",
        "\n",
        "\n",
        "num1=int (input(\"Enter num1:\"))\n",
        "num2=int (input(\"Enter num2:\"))\n",
        "if (num1%2==0 and num2%2==0):\n",
        "   print(\"the lesser value is:\",even(num1,num2))\n",
        "elif (num1%2!=0 and num2%2!=0):\n",
        "   print(\"the greater value is:\",odd(num1,num2))\n",
        "else:\n",
        "    print(\"Compulsory enter both inputs either as odd or even\")\n"
      ],
      "execution_count": 3,
      "outputs": [
        {
          "output_type": "stream",
          "name": "stdout",
          "text": [
            "Enter num1:2\n",
            "Enter num2:4\n",
            "the lesser value is: 2\n"
          ]
        }
      ]
    },
    {
      "cell_type": "code",
      "metadata": {
        "id": "nXPD8RhFAZuf"
      },
      "source": [
        "#\n",
        "\n",
        "def str_checking(st1,st2):\n",
        "  if st1[0]==st2[0]:\n",
        "    return True\n",
        "  else:\n",
        "    return False\n",
        "  str1=input(\"Enter the first string value:\")\n",
        "  str2=input(\"Enter the second string value:\")\n",
        "  b=str_checking(str1,str2) \n",
        "  if (b==True):\n",
        "    print(\"The string{0} and {1} both are started with same letter so it returns true\".format(str1,str2))\n",
        "  else:\n",
        "    print(\"The string{0} and {1} both are not started with same letter so it returns false\".format(str1,str2))  \n",
        "\n"
      ],
      "execution_count": 12,
      "outputs": []
    },
    {
      "cell_type": "code",
      "metadata": {
        "colab": {
          "base_uri": "https://localhost:8080/"
        },
        "id": "gLK3zyKUEEB9",
        "outputId": "57f5da63-27b5-4c70-e2b3-613caae9ff8a"
      },
      "source": [
        "#Returns the words in reverse\n",
        "string = \"I am Good\"\n",
        "words=string.split()\n",
        "words = list (reversed(words))\n",
        "print(\"\".join(words))"
      ],
      "execution_count": null,
      "outputs": [
        {
          "output_type": "stream",
          "name": "stdout",
          "text": [
            "GoodamI\n"
          ]
        }
      ]
    },
    {
      "cell_type": "code",
      "metadata": {
        "colab": {
          "base_uri": "https://localhost:8080/"
        },
        "id": "GRVL25XRcaRj",
        "outputId": "af45f3d5-7683-4199-8af6-27339a6c5fb4"
      },
      "source": [
        "# 3 characters in string as output\n",
        "string = \"Geeks\"\n",
        "for i in range(0,len(string)):\n",
        "  flag=0\n",
        "  for j in range(0,len(string)):\n",
        "    if (string[i]==string[j] and i!=j):\n",
        "      flag=1\n",
        "      break\n",
        "  if (flag==0):\n",
        "    print(string[i],end=\"\")    \n"
      ],
      "execution_count": null,
      "outputs": [
        {
          "output_type": "stream",
          "name": "stdout",
          "text": [
            "Gks"
          ]
        }
      ]
    }
  ]
}