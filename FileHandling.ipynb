{
  "nbformat": 4,
  "nbformat_minor": 0,
  "metadata": {
    "colab": {
      "name": "FileHandling.ipynb",
      "provenance": [],
      "collapsed_sections": [],
      "authorship_tag": "ABX9TyMGJM364gu2hR1ozCpHnNNS",
      "include_colab_link": true
    },
    "kernelspec": {
      "name": "python3",
      "display_name": "Python 3"
    },
    "language_info": {
      "name": "python"
    }
  },
  "cells": [
    {
      "cell_type": "markdown",
      "metadata": {
        "id": "view-in-github",
        "colab_type": "text"
      },
      "source": [
        "<a href=\"https://colab.research.google.com/github/nehakiran2001/FullStack/blob/main/FileHandling.ipynb\" target=\"_parent\"><img src=\"https://colab.research.google.com/assets/colab-badge.svg\" alt=\"Open In Colab\"/></a>"
      ]
    },
    {
      "cell_type": "code",
      "metadata": {
        "colab": {
          "base_uri": "https://localhost:8080/"
        },
        "id": "iJXaYqCWe9os",
        "outputId": "d9a9016c-b1cb-44f9-8d3d-575ffa0c3a54"
      },
      "source": [
        "#\n",
        "f=open(\"stud.txt\",'w')\n",
        "x=\"y\"\n",
        "while (x==\"y\"):\n",
        "  name=input(\"Enter name\")\n",
        "  f.write(name)\n",
        "  f.write(\"\\n\")\n",
        "  x=input(\"Do you wish to continue?(y/n)\")\n",
        "  f=open(\"stud.txt\",'r')\n",
        "  print(f.read())"
      ],
      "execution_count": null,
      "outputs": [
        {
          "output_type": "stream",
          "name": "stdout",
          "text": [
            "Enter nameAdya\n",
            "Do you wish to continue?(y,n)n\n",
            "Adya\n",
            "\n"
          ]
        }
      ]
    },
    {
      "cell_type": "code",
      "metadata": {
        "colab": {
          "base_uri": "https://localhost:8080/"
        },
        "id": "PH-i2EIpg9rT",
        "outputId": "4742db20-c842-479e-85e0-a13717f540be"
      },
      "source": [
        "#\n",
        "f=open(\"stud,txt\",'a')\n",
        "x=\"y\"\n",
        "while (x==\"y\"):\n",
        "  name=input(\"Enter name\")\n",
        "  f.write(name)\n",
        "  f.write(\"\\n\")\n",
        "  x=input(\"Do you wish to continue? (y/n)\")\n",
        "  f=open(\"stud.txt\",'r')\n",
        "  print(f.readline())"
      ],
      "execution_count": null,
      "outputs": [
        {
          "output_type": "stream",
          "name": "stdout",
          "text": [
            "Enter nameAdya\n",
            "Do you wish to continue? (y/n)n\n",
            "Adya\n",
            "\n"
          ]
        }
      ]
    },
    {
      "cell_type": "code",
      "metadata": {
        "colab": {
          "base_uri": "https://localhost:8080/",
          "height": 203
        },
        "id": "dUUOqmjCh-bV",
        "outputId": "0c71d998-603f-4d02-f3d2-65d4e71fcdef"
      },
      "source": [
        "#\n",
        "import os\n",
        "os.remove(\"stud.txt\")\n",
        "f=open(\"stud.txt\",'r')"
      ],
      "execution_count": null,
      "outputs": [
        {
          "output_type": "error",
          "ename": "FileNotFoundError",
          "evalue": "ignored",
          "traceback": [
            "\u001b[0;31m---------------------------------------------------------------------------\u001b[0m",
            "\u001b[0;31mFileNotFoundError\u001b[0m                         Traceback (most recent call last)",
            "\u001b[0;32m<ipython-input-12-dc2e02de59d3>\u001b[0m in \u001b[0;36m<module>\u001b[0;34m()\u001b[0m\n\u001b[1;32m      2\u001b[0m \u001b[0;32mimport\u001b[0m \u001b[0mos\u001b[0m\u001b[0;34m\u001b[0m\u001b[0;34m\u001b[0m\u001b[0m\n\u001b[1;32m      3\u001b[0m \u001b[0mos\u001b[0m\u001b[0;34m.\u001b[0m\u001b[0mremove\u001b[0m\u001b[0;34m(\u001b[0m\u001b[0;34m\"stud.txt\"\u001b[0m\u001b[0;34m)\u001b[0m\u001b[0;34m\u001b[0m\u001b[0;34m\u001b[0m\u001b[0m\n\u001b[0;32m----> 4\u001b[0;31m \u001b[0mf\u001b[0m\u001b[0;34m=\u001b[0m\u001b[0mopen\u001b[0m\u001b[0;34m(\u001b[0m\u001b[0;34m\"stud.txt\"\u001b[0m\u001b[0;34m,\u001b[0m\u001b[0;34m'r'\u001b[0m\u001b[0;34m)\u001b[0m\u001b[0;34m\u001b[0m\u001b[0;34m\u001b[0m\u001b[0m\n\u001b[0m",
            "\u001b[0;31mFileNotFoundError\u001b[0m: [Errno 2] No such file or directory: 'stud.txt'"
          ]
        }
      ]
    }
  ]
}