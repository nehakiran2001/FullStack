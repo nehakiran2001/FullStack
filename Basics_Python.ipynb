{
  "nbformat": 4,
  "nbformat_minor": 0,
  "metadata": {
    "colab": {
      "name": "Basics-Python.ipynb",
      "provenance": [],
      "collapsed_sections": [],
      "authorship_tag": "ABX9TyNp4D6eqRvt9K7i7hxFcscn",
      "include_colab_link": true
    },
    "kernelspec": {
      "name": "python3",
      "display_name": "Python 3"
    },
    "language_info": {
      "name": "python"
    }
  },
  "cells": [
    {
      "cell_type": "markdown",
      "metadata": {
        "id": "view-in-github",
        "colab_type": "text"
      },
      "source": [
        "<a href=\"https://colab.research.google.com/github/nehakiran2001/FullStack/blob/main/Basics_Python.ipynb\" target=\"_parent\"><img src=\"https://colab.research.google.com/assets/colab-badge.svg\" alt=\"Open In Colab\"/></a>"
      ]
    },
    {
      "cell_type": "code",
      "metadata": {
        "colab": {
          "base_uri": "https://localhost:8080/"
        },
        "id": "C8hOCpwRfK1H",
        "outputId": "e0b246f4-5699-4a1d-b903-d3ade727f6b5"
      },
      "source": [
        "fname=\"PARKAVI\"\n",
        "fac_number=525\n",
        "height=5.2\n",
        "print(fname,fac_number,height)"
      ],
      "execution_count": null,
      "outputs": [
        {
          "output_type": "stream",
          "name": "stdout",
          "text": [
            "PARKAVI 525 5.2\n"
          ]
        }
      ]
    },
    {
      "cell_type": "code",
      "metadata": {
        "colab": {
          "base_uri": "https://localhost:8080/"
        },
        "id": "G1tKDIJwhI8_",
        "outputId": "727a614e-137b-4823-ce25-997329f1b637"
      },
      "source": [
        "cname=input(\"Please enter your college name\")\n",
        "print(cname)"
      ],
      "execution_count": null,
      "outputs": [
        {
          "output_type": "stream",
          "name": "stdout",
          "text": [
            "Please enter your college nameKIT\n",
            "KIT\n"
          ]
        }
      ]
    },
    {
      "cell_type": "code",
      "metadata": {
        "colab": {
          "base_uri": "https://localhost:8080/"
        },
        "id": "zXnSkSB9hl7b",
        "outputId": "4f06556b-d429-4f9d-a0bd-aa859713a81c"
      },
      "source": [
        "print(-2)\n",
        "print(2/2)\n",
        "print(3//3)\n",
        "print(2+3)\n",
        "print(2-3)\n",
        "print(2/3)\n",
        "print(2%3)\n",
        "print(2**2)"
      ],
      "execution_count": null,
      "outputs": [
        {
          "output_type": "stream",
          "name": "stdout",
          "text": [
            "-2\n",
            "1.0\n",
            "1\n",
            "5\n",
            "-1\n",
            "0.6666666666666666\n",
            "2\n",
            "4\n"
          ]
        }
      ]
    },
    {
      "cell_type": "code",
      "metadata": {
        "colab": {
          "base_uri": "https://localhost:8080/"
        },
        "id": "RkSuSEQbiNQJ",
        "outputId": "2b2507d0-1f2d-4e50-c905-ca839c638908"
      },
      "source": [
        "print(5==4)\n",
        "print(2==2)\n",
        "print(\"msr\"=='ms')\n",
        "print(\"msr\"=='msr')"
      ],
      "execution_count": null,
      "outputs": [
        {
          "output_type": "stream",
          "name": "stdout",
          "text": [
            "False\n",
            "True\n",
            "False\n",
            "True\n"
          ]
        }
      ]
    },
    {
      "cell_type": "code",
      "metadata": {
        "colab": {
          "base_uri": "https://localhost:8080/"
        },
        "id": "Pcw7Sht1ikp0",
        "outputId": "26c2e59a-ffba-4050-d452-ba69cc9c1bd1"
      },
      "source": [
        "marks=int(input(\"Please enter your marks\"))\n",
        "if marks>39 and marks<50:\n",
        "  print(\"E grade\")\n",
        "elif marks>49 and marks<60:\n",
        "  print(\"D grade\")\n",
        "elif marks>59 and marks<70:\n",
        "  print(\"C grade\")\n",
        "else:\n",
        "  print(\"Pass\")  \n"
      ],
      "execution_count": null,
      "outputs": [
        {
          "output_type": "stream",
          "name": "stdout",
          "text": [
            "Please enter your marks89\n",
            "Pass\n"
          ]
        }
      ]
    },
    {
      "cell_type": "code",
      "metadata": {
        "colab": {
          "base_uri": "https://localhost:8080/"
        },
        "id": "dfOp98d_ksCc",
        "outputId": "dc9ef7f9-70cd-4d23-ca37-be44b56e0e52"
      },
      "source": [
        "n=int(input(\"Enter a number value to find factorial of it\"))\n",
        "fact=1\n",
        "i=1\n",
        "while i<=n:\n",
        "  fact=fact*i\n",
        "  i+=1\n",
        "  print(fact)"
      ],
      "execution_count": null,
      "outputs": [
        {
          "output_type": "stream",
          "name": "stdout",
          "text": [
            "Enter a number value to find factorial of it4\n",
            "1\n",
            "2\n",
            "6\n",
            "24\n"
          ]
        }
      ]
    },
    {
      "cell_type": "code",
      "metadata": {
        "colab": {
          "base_uri": "https://localhost:8080/"
        },
        "id": "_fo2LUctlTNv",
        "outputId": "72a94276-b242-41b6-9bdb-73d3da7f72a4"
      },
      "source": [
        "cnames=[\"msrit\",\"hkbk\",\"bms\"]\n",
        "key=input(\"Enter college name\")\n",
        "flag=0\n",
        "for x in cnames:\n",
        "  if key==x:\n",
        "    print(\"key is found in list\")\n",
        "    flag=1\n",
        "    break\n",
        "  else:\n",
        "    continue\n",
        "  if flag==0:\n",
        "    print(\"key not found\")    "
      ],
      "execution_count": null,
      "outputs": [
        {
          "output_type": "stream",
          "name": "stdout",
          "text": [
            "Enter college namebms\n",
            "key is found in list\n"
          ]
        }
      ]
    },
    {
      "cell_type": "code",
      "metadata": {
        "colab": {
          "base_uri": "https://localhost:8080/"
        },
        "id": "QO9tKrRjmNL9",
        "outputId": "bb4a2f8a-69f9-4cb3-9bde-d8038014a4df"
      },
      "source": [
        "sub=[\"DataStructure\",\"Oops\",\"Dms\"]\n",
        "stud=[\"Nithin\",\"Harini\",\"Anjali\"]\n",
        "print(\"stud name\",\"sub name\")\n",
        "for x in stud:\n",
        " for y in sub:\n",
        "   print(x,y)\n"
      ],
      "execution_count": null,
      "outputs": [
        {
          "output_type": "stream",
          "name": "stdout",
          "text": [
            "stud name sub name\n",
            "Nithin DataStructure\n",
            "Nithin Oops\n",
            "Nithin Dms\n",
            "Harini DataStructure\n",
            "Harini Oops\n",
            "Harini Dms\n",
            "Anjali DataStructure\n",
            "Anjali Oops\n",
            "Anjali Dms\n"
          ]
        }
      ]
    },
    {
      "cell_type": "code",
      "metadata": {
        "colab": {
          "base_uri": "https://localhost:8080/"
        },
        "id": "xAw6dDKUngdA",
        "outputId": "8e1aeae7-8b52-473d-9c26-5ca304c3beff"
      },
      "source": [
        "for x in range(55):\n",
        " print(x)\n",
        "for i in range(10,20):\n",
        "  print(i)\n",
        "for x in range(0,20,5):\n",
        "    print(x)"
      ],
      "execution_count": null,
      "outputs": [
        {
          "output_type": "stream",
          "name": "stdout",
          "text": [
            "0\n",
            "1\n",
            "2\n",
            "3\n",
            "4\n",
            "5\n",
            "6\n",
            "7\n",
            "8\n",
            "9\n",
            "10\n",
            "11\n",
            "12\n",
            "13\n",
            "14\n",
            "15\n",
            "16\n",
            "17\n",
            "18\n",
            "19\n",
            "20\n",
            "21\n",
            "22\n",
            "23\n",
            "24\n",
            "25\n",
            "26\n",
            "27\n",
            "28\n",
            "29\n",
            "30\n",
            "31\n",
            "32\n",
            "33\n",
            "34\n",
            "35\n",
            "36\n",
            "37\n",
            "38\n",
            "39\n",
            "40\n",
            "41\n",
            "42\n",
            "43\n",
            "44\n",
            "45\n",
            "46\n",
            "47\n",
            "48\n",
            "49\n",
            "50\n",
            "51\n",
            "52\n",
            "53\n",
            "54\n",
            "10\n",
            "11\n",
            "12\n",
            "13\n",
            "14\n",
            "15\n",
            "16\n",
            "17\n",
            "18\n",
            "19\n",
            "0\n",
            "5\n",
            "10\n",
            "15\n"
          ]
        }
      ]
    }
  ]
}