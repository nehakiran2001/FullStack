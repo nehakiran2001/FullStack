{
  "nbformat": 4,
  "nbformat_minor": 0,
  "metadata": {
    "colab": {
      "name": "Dictionary.ipynb",
      "provenance": [],
      "collapsed_sections": [],
      "authorship_tag": "ABX9TyNI13V+GZRmonmWu5Gfjuo5",
      "include_colab_link": true
    },
    "kernelspec": {
      "name": "python3",
      "display_name": "Python 3"
    },
    "language_info": {
      "name": "python"
    }
  },
  "cells": [
    {
      "cell_type": "markdown",
      "metadata": {
        "id": "view-in-github",
        "colab_type": "text"
      },
      "source": [
        "<a href=\"https://colab.research.google.com/github/nehakiran2001/FullStack/blob/main/Dictionary.ipynb\" target=\"_parent\"><img src=\"https://colab.research.google.com/assets/colab-badge.svg\" alt=\"Open In Colab\"/></a>"
      ]
    },
    {
      "cell_type": "code",
      "metadata": {
        "colab": {
          "base_uri": "https://localhost:8080/"
        },
        "id": "fGXBzbyGCC9y",
        "outputId": "afb47334-ff22-4404-bf98-b280c6f26d08"
      },
      "source": [
        "#Accessing value of dictionary\n",
        "daily_temps={'sun':68.8,'mon':70.2,'tue':67.8,'wed':71.8}\n",
        "value=daily_temps['sun']\n",
        "print(value)"
      ],
      "execution_count": null,
      "outputs": [
        {
          "output_type": "stream",
          "name": "stdout",
          "text": [
            "68.8\n"
          ]
        }
      ]
    },
    {
      "cell_type": "code",
      "metadata": {
        "colab": {
          "base_uri": "https://localhost:8080/"
        },
        "id": "Hs4GnW04C7bb",
        "outputId": "be4ef50a-efd4-4421-a442-4b8bfe846ed7"
      },
      "source": [
        "#Creating a dictionary\n",
        "empdict={\n",
        "    \"Name\":\"Vijay\",\n",
        "    \"Age\":\"25\",\n",
        "    \"Job\":\"Teacher\"\n",
        "}\n",
        "\n",
        "print(empdict.get(\"Name\"))"
      ],
      "execution_count": null,
      "outputs": [
        {
          "output_type": "stream",
          "name": "stdout",
          "text": [
            "{'Name': 'Vijay', 'Age': '25', 'Job': 'Teacher'}\n",
            "Vijay\n"
          ]
        }
      ]
    },
    {
      "cell_type": "code",
      "metadata": {
        "colab": {
          "base_uri": "https://localhost:8080/"
        },
        "id": "ZbHD245PDStA",
        "outputId": "f0089e01-dccf-4dc1-a921-4f44495b8d19"
      },
      "source": [
        "#Changing the values\n",
        "empdict={\n",
        "    \"Name\":\"Vijay\",\n",
        "    \"Age\":\"25\",\n",
        "    \"Job\":\"Teacher\"\n",
        "}\n",
        "empdict[\"Name\"]=\"Vidya\"\n",
        "print(empdict[\"Name\"])"
      ],
      "execution_count": null,
      "outputs": [
        {
          "output_type": "stream",
          "name": "stdout",
          "text": [
            "Vidya\n"
          ]
        }
      ]
    },
    {
      "cell_type": "code",
      "metadata": {
        "colab": {
          "base_uri": "https://localhost:8080/"
        },
        "id": "sAtxZF16DscK",
        "outputId": "4a15ab50-1e7e-4a8c-a452-dd6333300b00"
      },
      "source": [
        "#LOOPS in Dictionary\n",
        "#To print key\n",
        "empdict={\n",
        "    \"Name\":\"Vijay\",\n",
        "    \"Age\":\"25\",\n",
        "    \"Job\":\"Teacher\"\n",
        "}\n",
        "for x in empdict:\n",
        " print(x)"
      ],
      "execution_count": null,
      "outputs": [
        {
          "output_type": "stream",
          "name": "stdout",
          "text": [
            "Name\n",
            "Age\n",
            "Job\n"
          ]
        }
      ]
    },
    {
      "cell_type": "code",
      "metadata": {
        "colab": {
          "base_uri": "https://localhost:8080/"
        },
        "id": "PGo7RIx-EWCr",
        "outputId": "15111b63-644f-4621-c4fa-429276c774d8"
      },
      "source": [
        "#To print values of keys\n",
        "empdict={\n",
        "    \"Name\":\"Vijay\",\n",
        "    \"Age\":\"25\",\n",
        "    \"Job\":\"Teacher\"\n",
        "}\n",
        "for x in empdict:\n",
        "  print(empdict[x])"
      ],
      "execution_count": null,
      "outputs": [
        {
          "output_type": "stream",
          "name": "stdout",
          "text": [
            "Vijay\n",
            "25\n",
            "Teacher\n"
          ]
        }
      ]
    },
    {
      "cell_type": "code",
      "metadata": {
        "colab": {
          "base_uri": "https://localhost:8080/"
        },
        "id": "IlqNeiSmEp-n",
        "outputId": "cdc5f642-d4a2-46fb-e692-25a895bfa152"
      },
      "source": [
        "#Value()Method\n",
        "empdict={\n",
        "    \"Name\":\"Vijay\",\n",
        "    \"Age\":\"25\",\n",
        "    \"Job\":\"Teacher\"\n",
        "}\n",
        "for x in empdict.values():\n",
        "  print(x)"
      ],
      "execution_count": null,
      "outputs": [
        {
          "output_type": "stream",
          "name": "stdout",
          "text": [
            "Vijay\n",
            "25\n",
            "Teacher\n"
          ]
        }
      ]
    },
    {
      "cell_type": "code",
      "metadata": {
        "colab": {
          "base_uri": "https://localhost:8080/"
        },
        "id": "IcjHKtofExau",
        "outputId": "37f16c09-3840-4980-c952-98fd9e59fb4e"
      },
      "source": [
        "#To print both Keys and Values\n",
        "empdict={\n",
        "         \"Name\":\"Vijay\",\n",
        "         \"Age\":\"25\",\n",
        "         \"Job\":\"Teacher\"\n",
        "}\n",
        "for x,y in empdict.items():\n",
        "  print(x,y)"
      ],
      "execution_count": null,
      "outputs": [
        {
          "output_type": "stream",
          "name": "stdout",
          "text": [
            "Name Vijay\n",
            "Age 25\n",
            "Job Teacher\n"
          ]
        }
      ]
    },
    {
      "cell_type": "code",
      "metadata": {
        "colab": {
          "base_uri": "https://localhost:8080/"
        },
        "id": "MnjibFEIFd5g",
        "outputId": "cbe61358-2b51-44ee-b5e9-cb980ca5d98d"
      },
      "source": [
        "#Check if Key exists\n",
        "empdict={\n",
        "    \"Name\":\"Vijay\",\n",
        "    \"Age\":\"25\",\n",
        "    \"Job\":\"Teacher\"\n",
        "}\n",
        "if \"Age\"in empdict:\n",
        "  print(\"Yes,Age is one of the keys in the empdict dictionary\")"
      ],
      "execution_count": null,
      "outputs": [
        {
          "output_type": "stream",
          "name": "stdout",
          "text": [
            "Yes,Age is one of the keys in the empdict dictionary\n"
          ]
        }
      ]
    },
    {
      "cell_type": "code",
      "metadata": {
        "colab": {
          "base_uri": "https://localhost:8080/"
        },
        "id": "P3TidUBzF5tj",
        "outputId": "cf92b12a-1c38-4533-cb4b-473b75ea87a7"
      },
      "source": [
        "#Length of the dictionary\n",
        "empdict={\n",
        "    \"Name\":\"Vijay\",\n",
        "    \"Age\":\"25\",\n",
        "    \"Job\":\"Teacher\"\n",
        "}\n",
        "print(len(empdict))"
      ],
      "execution_count": null,
      "outputs": [
        {
          "output_type": "stream",
          "name": "stdout",
          "text": [
            "3\n"
          ]
        }
      ]
    },
    {
      "cell_type": "code",
      "metadata": {
        "id": "skCd2LmPGM9i",
        "colab": {
          "base_uri": "https://localhost:8080/"
        },
        "outputId": "1cd0b5cc-2bb2-47b3-f70a-6b42cafd07fb"
      },
      "source": [
        "#Adding new key value pair to a dictionary\n",
        "empdict={\n",
        "  \"Name\":\"Vijay\",\n",
        "  \"Age\":\"25\",\n",
        "  \"Job\":\"Teacher\"\n",
        "}\n",
        "empdict[\"Blood group\"]=\"O+\"\n",
        "print(empdict)"
      ],
      "execution_count": null,
      "outputs": [
        {
          "output_type": "stream",
          "name": "stdout",
          "text": [
            "{'Name': 'Vijay', 'Age': '25', 'Job': 'Teacher', 'Blood group': 'O+'}\n"
          ]
        }
      ]
    },
    {
      "cell_type": "code",
      "metadata": {
        "colab": {
          "base_uri": "https://localhost:8080/"
        },
        "id": "BElLVPPVkDVX",
        "outputId": "6f367716-0f2a-48dd-d4c2-e124e49edf9a"
      },
      "source": [
        "#Copy Dictionary\n",
        "#dict() Constructor\n",
        "empdict={\n",
        "    \"Name\":\"Vijay\",\n",
        "    \"Age\":\"25\",\n",
        "    \"Job\":\"Teacher\"\n",
        "}\n",
        "e1=dict(empdict)\n",
        "print(e1)"
      ],
      "execution_count": null,
      "outputs": [
        {
          "output_type": "stream",
          "name": "stdout",
          "text": [
            "{'Name': 'Vijay', 'Age': '25', 'Job': 'Teacher'}\n"
          ]
        }
      ]
    },
    {
      "cell_type": "code",
      "metadata": {
        "colab": {
          "base_uri": "https://localhost:8080/"
        },
        "id": "8FldiH0vkn3Y",
        "outputId": "7f3a1a31-e840-44c0-d03c-7b7953395cd4"
      },
      "source": [
        "# .copy() method\n",
        "empdict={\n",
        "    \"Name\":\"Vijay\",\n",
        "    \"Age\":\"25\",\n",
        "    \"Job\":\"Teacher\"\n",
        "}\n",
        "e1=empdict.copy()\n",
        "print(e1)"
      ],
      "execution_count": null,
      "outputs": [
        {
          "output_type": "stream",
          "name": "stdout",
          "text": [
            "{'Name': 'Vijay', 'Age': '25', 'Job': 'Teacher'}\n"
          ]
        }
      ]
    },
    {
      "cell_type": "code",
      "metadata": {
        "colab": {
          "base_uri": "https://localhost:8080/"
        },
        "id": "6z_57XsflPbf",
        "outputId": "f23b60b9-26ab-44a8-8bb0-9b9833b64bae"
      },
      "source": [
        "#Nested Dictionaries\n",
        "employees={\n",
        "    \"emp1\":{\"Name\":\"Vijay\",\"Age\":\"25\",\"Blood group\":\"O+\"},\n",
        "    \"emp2\":{\"Name\":\"Suraj\",\"Age\":\"23\",\"Blood group\":\"A+\"},\n",
        "    \"emp3\":{\"Name\":\"Medha\",\"Age\":\"28\",\"Blood group\":\"AB+\"}\n",
        "}\n",
        "print(employees)"
      ],
      "execution_count": null,
      "outputs": [
        {
          "output_type": "stream",
          "name": "stdout",
          "text": [
            "{'emp1': {'Name': 'Vijay', 'Age': '25', 'Blood group': 'O+'}, 'emp2': {'Name': 'Suraj', 'Age': '23', 'Blood group': 'A+'}, 'emp3': {'Name': 'Medha', 'Age': '28', 'Blood group': 'AB+'}}\n"
          ]
        }
      ]
    },
    {
      "cell_type": "code",
      "metadata": {
        "colab": {
          "base_uri": "https://localhost:8080/",
          "height": 292
        },
        "id": "-qBZxs8Wnfe-",
        "outputId": "78032a69-9c88-4d07-9ca4-1725eb634e2d"
      },
      "source": [
        "#Removing Items\n",
        "empdict={\n",
        "    \"Name\":\"Vidya\",\n",
        "    \"Age\":\"25\",\n",
        "    \"Job\":\"Manager\",\n",
        "    \"Blood group\":\"O+\",\n",
        "    \"Company\":\"Mindtree\"\n",
        "}\n",
        "empdict.pop(\"Age\")\n",
        "print(empdict)\n",
        "empdict.popitem()\n",
        "print(empdict)\n",
        "del empdict[\"Job\"]\n",
        "print(empdict)\n",
        "del empdict\n",
        "print(empdict)\n",
        "empdict.clear()\n",
        "print(empdict)\n"
      ],
      "execution_count": null,
      "outputs": [
        {
          "output_type": "stream",
          "name": "stdout",
          "text": [
            "{'Name': 'Vidya', 'Job': 'Manager', 'Blood group': 'O+', 'Company': 'Mindtree'}\n",
            "{'Name': 'Vidya', 'Job': 'Manager', 'Blood group': 'O+'}\n",
            "{'Name': 'Vidya', 'Blood group': 'O+'}\n"
          ]
        },
        {
          "output_type": "error",
          "ename": "NameError",
          "evalue": "ignored",
          "traceback": [
            "\u001b[0;31m---------------------------------------------------------------------------\u001b[0m",
            "\u001b[0;31mNameError\u001b[0m                                 Traceback (most recent call last)",
            "\u001b[0;32m<ipython-input-12-16f7abba3022>\u001b[0m in \u001b[0;36m<module>\u001b[0;34m()\u001b[0m\n\u001b[1;32m     14\u001b[0m \u001b[0mprint\u001b[0m\u001b[0;34m(\u001b[0m\u001b[0mempdict\u001b[0m\u001b[0;34m)\u001b[0m\u001b[0;34m\u001b[0m\u001b[0;34m\u001b[0m\u001b[0m\n\u001b[1;32m     15\u001b[0m \u001b[0;32mdel\u001b[0m \u001b[0mempdict\u001b[0m\u001b[0;34m\u001b[0m\u001b[0;34m\u001b[0m\u001b[0m\n\u001b[0;32m---> 16\u001b[0;31m \u001b[0mprint\u001b[0m\u001b[0;34m(\u001b[0m\u001b[0mempdict\u001b[0m\u001b[0;34m)\u001b[0m\u001b[0;34m\u001b[0m\u001b[0;34m\u001b[0m\u001b[0m\n\u001b[0m\u001b[1;32m     17\u001b[0m \u001b[0mempdict\u001b[0m\u001b[0;34m.\u001b[0m\u001b[0mclear\u001b[0m\u001b[0;34m(\u001b[0m\u001b[0;34m)\u001b[0m\u001b[0;34m\u001b[0m\u001b[0;34m\u001b[0m\u001b[0m\n\u001b[1;32m     18\u001b[0m \u001b[0mprint\u001b[0m\u001b[0;34m(\u001b[0m\u001b[0mempdict\u001b[0m\u001b[0;34m)\u001b[0m\u001b[0;34m\u001b[0m\u001b[0;34m\u001b[0m\u001b[0m\n",
            "\u001b[0;31mNameError\u001b[0m: name 'empdict' is not defined"
          ]
        }
      ]
    },
    {
      "cell_type": "code",
      "metadata": {
        "colab": {
          "base_uri": "https://localhost:8080/"
        },
        "id": "cMG_v01Jpi0o",
        "outputId": "4bb0a6ae-832c-476b-dbd7-1a5e7fe9b2e5"
      },
      "source": [
        "#dict()Constructor\n",
        "emp=dict(Name=\"Vijay\",Age=\"25\",Job=\"Teacher\")\n",
        "print(emp)"
      ],
      "execution_count": null,
      "outputs": [
        {
          "output_type": "stream",
          "name": "stdout",
          "text": [
            "{'Name': 'Vijay', 'Age': '25', 'Job': 'Teacher'}\n"
          ]
        }
      ]
    },
    {
      "cell_type": "code",
      "metadata": {
        "colab": {
          "base_uri": "https://localhost:8080/"
        },
        "id": "fmZOvpifqH3i",
        "outputId": "874a36f2-adef-4f61-8e25-b62e674b3771"
      },
      "source": [
        "#fromkeys()method\n",
        "empdict={\n",
        "    \"Name\":\"Vijay\",\n",
        "    \"Age\":\"25\",\n",
        "    \"Job\":\"Teacher\"\n",
        "}\n",
        "x=(\"Age\",\"Name\")\n",
        "y=1\n",
        "e=empdict.fromkeys(x,y)\n",
        "print(e)"
      ],
      "execution_count": null,
      "outputs": [
        {
          "output_type": "stream",
          "name": "stdout",
          "text": [
            "{'Age': 1, 'Name': 1}\n"
          ]
        }
      ]
    },
    {
      "cell_type": "code",
      "metadata": {
        "colab": {
          "base_uri": "https://localhost:8080/"
        },
        "id": "6wtcdo5krWLF",
        "outputId": "164235a0-e70b-4b81-a8d4-060677366798"
      },
      "source": [
        "#keys()method\n",
        "empdict={\n",
        "    \"Name\":\"Vijay\",\n",
        "    \"Age\":\"25\",\n",
        "    \"Job\":\"Teacher\"\n",
        "}\n",
        "x=empdict.keys()\n",
        "print(x)"
      ],
      "execution_count": null,
      "outputs": [
        {
          "output_type": "stream",
          "name": "stdout",
          "text": [
            "dict_keys(['Name', 'Age', 'Job'])\n"
          ]
        }
      ]
    },
    {
      "cell_type": "code",
      "metadata": {
        "colab": {
          "base_uri": "https://localhost:8080/"
        },
        "id": "RHIII3cgs66I",
        "outputId": "3a4846ee-d9c0-4cb1-d1c4-fb07358667fe"
      },
      "source": [
        "#setdefault()method\n",
        "empdict={\n",
        "    \"Name\":\"Vijay\",\n",
        "    \"Age\":\"25\",\n",
        "    \"Job\":\"Teacher\"\n",
        "}\n",
        "empdict.setdefault(\"Blood group\",\"O+\");\n",
        "print(empdict)"
      ],
      "execution_count": null,
      "outputs": [
        {
          "output_type": "stream",
          "name": "stdout",
          "text": [
            "{'Name': 'Vijay', 'Age': '25', 'Job': 'Teacher', 'Blood group': 'O+'}\n"
          ]
        }
      ]
    },
    {
      "cell_type": "code",
      "metadata": {
        "colab": {
          "base_uri": "https://localhost:8080/"
        },
        "id": "lbvEr3watonJ",
        "outputId": "cd9feaa4-badd-493d-d7cb-33629a1d288b"
      },
      "source": [
        "#numbers as keys and their squares as values\n",
        "n=int(input(\"Input a number\"))\n",
        "d=dict ()\n",
        "for x in range(1,n+1):\n",
        "  d[x]=x*x\n",
        "  print(d)\n",
        "\n"
      ],
      "execution_count": null,
      "outputs": [
        {
          "output_type": "stream",
          "name": "stdout",
          "text": [
            "Input a number8\n",
            "{1: 1}\n",
            "{1: 1, 2: 4}\n",
            "{1: 1, 2: 4, 3: 9}\n",
            "{1: 1, 2: 4, 3: 9, 4: 16}\n",
            "{1: 1, 2: 4, 3: 9, 4: 16, 5: 25}\n",
            "{1: 1, 2: 4, 3: 9, 4: 16, 5: 25, 6: 36}\n",
            "{1: 1, 2: 4, 3: 9, 4: 16, 5: 25, 6: 36, 7: 49}\n",
            "{1: 1, 2: 4, 3: 9, 4: 16, 5: 25, 6: 36, 7: 49, 8: 64}\n"
          ]
        }
      ]
    },
    {
      "cell_type": "code",
      "metadata": {
        "colab": {
          "base_uri": "https://localhost:8080/"
        },
        "id": "84bZz-0ouUqv",
        "outputId": "4a930164-059a-49a3-f3c5-0645a0b5d5c3"
      },
      "source": [
        "#To sum all values in dictionary\n",
        "d_dict={'a':100,'b':500,'c':200}\n",
        "print(sum(d_dict.values()))"
      ],
      "execution_count": null,
      "outputs": [
        {
          "output_type": "stream",
          "name": "stdout",
          "text": [
            "800\n"
          ]
        }
      ]
    },
    {
      "cell_type": "code",
      "metadata": {
        "colab": {
          "base_uri": "https://localhost:8080/"
        },
        "id": "CVZjn7Kmu2_G",
        "outputId": "aea9b5c4-0015-44ce-97bf-98c2ddb40027"
      },
      "source": [
        "#\n",
        "Name= str (input(\"Enter the Name of the Student\"))\n",
        "Marks=int (input(\"Enter the marks of the student\"))\n",
        "studdict={\"Name\":\"Marks\"}\n",
        " \n",
        "print(Name,Marks)"
      ],
      "execution_count": null,
      "outputs": [
        {
          "output_type": "stream",
          "name": "stdout",
          "text": [
            "Enter the Name of the StudentKala\n",
            "Enter the marks of the student80\n",
            "Kala 80\n"
          ]
        }
      ]
    },
    {
      "cell_type": "code",
      "metadata": {
        "id": "129b46xazSfl"
      },
      "source": [
        "#Convert 2 digit number into words\n",
        "ones = [\"Zero\",\"One\",\"Two\",\"Three\",\"Four\",\"Five\",\"Six\",\"Seven\",\"Eight\",\"Nine\"];\n",
        "twos = [\"Ten\",\"Eleven\",\"Twelve\",\"Thirteen\",\"Fourteen\",\"Fifteen\",\"Sixteen\",\"Seventeen\",\"Eighteen\",\"Nineteen\"];\n",
        "tens = [\"Twenty\",\"Thirty\",\"Fourty\",\"Fifty\",\"Sixty\",\"Seventy\",\"Eighty\",\"Ninety\"];\n",
        "def process(number,index):\n",
        "  if number=='0':\n",
        "     return \"Zero\"\n",
        "\n",
        "     length=len(number)\n",
        "     if (length>3):\n",
        "\n",
        "      return false\n",
        "      number=number.zfill(3)\n",
        "      words=\"\"\n",
        "      hdigit=int (number[0])\n",
        "      tdigit=int (number[1])\n",
        "      odigit=int (number[2])\n",
        "      words += '' if number[0] =='0' else ones[hdigit]\n",
        "      words += 'Hundred' if not words == '' else ''\n",
        "      if (tdigit > 1): \n",
        "\n",
        "\n",
        "        words +=tens[tdigit - 2]\n",
        "        words +=''  \n",
        "        words +=ones[odigit] \n",
        "      elif (tdigit == 1):\n",
        "        words +=twos[(int (tdigit + odigit)%10)-1]\n",
        "      elif (tdigit == 0):\n",
        "          words += ones[odigit]\n",
        "        \n",
        "      if (words.endswitch(\"Zero\")):\n",
        "         words = words[:-len(\"Zero\")]\n",
        "      else:\n",
        "         words +=''\n",
        "def getWords (number):\n",
        "  length = len(str(number)) \n",
        "  if length>2:\n",
        "    return \"This program supports upto 2 digit numbers\" \n",
        "    count=length//3 if length%3==0 else length//3+1\n",
        "    copy=count\n",
        "    words=[]\n",
        "    for i in range(length-1,-1,-3):\n",
        "      words.append(process(str(number)[0 if i-2<0 else i-2:i+1],copy))\n",
        "    if count == 1:\n",
        "      final_words =''\n",
        "    for s in reversed(words):\n",
        "        temp =s +''\n",
        "        final_words += temp \n",
        "        return final_words\n",
        "        number=int(input(\"Enter the number\"))\n",
        "        print((number,getWords(number)))          \n",
        "\n"
      ],
      "execution_count": null,
      "outputs": []
    },
    {
      "cell_type": "code",
      "metadata": {
        "colab": {
          "base_uri": "https://localhost:8080/"
        },
        "id": "pSCKKlnP1ett",
        "outputId": "3c755b3f-f98b-472a-e6ce-ffcb428d81c3"
      },
      "source": [
        "#Add roll number and marks of students\n",
        "n= int (input(\"Enter the number of Students:\"))\n",
        "d={}\n",
        "for i in range(n):\n",
        "  roll_no=int (input(\"Enter roll_no:\"))\n",
        "  name=input(\"Enter name:\")\n",
        "  marks=int (input(\"Enter marks:\"))\n",
        "  d[roll_no]=[name,marks]\n",
        "  for k in d:\n",
        "    if (d[k][1]>75):\n",
        "       print(d[k][0])"
      ],
      "execution_count": 2,
      "outputs": [
        {
          "output_type": "stream",
          "name": "stdout",
          "text": [
            "Enter the number of Students:2\n",
            "Enter roll_no:23\n",
            "Enter name:Harini\n",
            "Enter marks:78\n",
            "Harini\n",
            "Enter roll_no:26\n",
            "Enter name:Harshita\n",
            "Enter marks:89\n",
            "Harini\n",
            "Harshita\n"
          ]
        }
      ]
    }
  ]
}