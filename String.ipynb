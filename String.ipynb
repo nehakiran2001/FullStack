{
  "nbformat": 4,
  "nbformat_minor": 0,
  "metadata": {
    "colab": {
      "name": "String.ipynb",
      "provenance": [],
      "collapsed_sections": [],
      "authorship_tag": "ABX9TyMnIcUeBv1F7h9nCLeh/zeb",
      "include_colab_link": true
    },
    "kernelspec": {
      "name": "python3",
      "display_name": "Python 3"
    },
    "language_info": {
      "name": "python"
    }
  },
  "cells": [
    {
      "cell_type": "markdown",
      "metadata": {
        "id": "view-in-github",
        "colab_type": "text"
      },
      "source": [
        "<a href=\"https://colab.research.google.com/github/nehakiran2001/FullStack/blob/main/String.ipynb\" target=\"_parent\"><img src=\"https://colab.research.google.com/assets/colab-badge.svg\" alt=\"Open In Colab\"/></a>"
      ]
    },
    {
      "cell_type": "code",
      "metadata": {
        "colab": {
          "base_uri": "https://localhost:8080/"
        },
        "id": "QQGBBbhQa88x",
        "outputId": "5942741d-a856-4884-fe7f-49f290f4778b"
      },
      "source": [
        "#Printing string value\n",
        "print('Hello')\n",
        "print(\"Hello\")"
      ],
      "execution_count": null,
      "outputs": [
        {
          "output_type": "stream",
          "name": "stdout",
          "text": [
            "Hello\n",
            "Hello\n"
          ]
        }
      ]
    },
    {
      "cell_type": "code",
      "metadata": {
        "colab": {
          "base_uri": "https://localhost:8080/"
        },
        "id": "dz5--fOjbTR2",
        "outputId": "7c2fd87c-da67-479c-db76-3fcd3469c96c"
      },
      "source": [
        "#Assigning string to a variable\n",
        "name=\"Neha\"\n",
        "print(name)"
      ],
      "execution_count": null,
      "outputs": [
        {
          "output_type": "stream",
          "name": "stdout",
          "text": [
            "Neha\n"
          ]
        }
      ]
    },
    {
      "cell_type": "code",
      "metadata": {
        "colab": {
          "base_uri": "https://localhost:8080/"
        },
        "id": "swDdM9JebgdT",
        "outputId": "ca58b971-3d22-44ea-e1e6-10f97e10cedd"
      },
      "source": [
        "#Multiline string\n",
        "a =\"\"\"String\n",
        "is a popular\n",
        "datatype in \n",
        "python\"\"\"\n",
        "print(a)"
      ],
      "execution_count": null,
      "outputs": [
        {
          "output_type": "stream",
          "name": "stdout",
          "text": [
            "String\n",
            "is a popular\n",
            "datatype in \n",
            "python\n"
          ]
        }
      ]
    },
    {
      "cell_type": "code",
      "metadata": {
        "colab": {
          "base_uri": "https://localhost:8080/"
        },
        "id": "urWZU15Gbx6U",
        "outputId": "aebb0b3c-089f-4821-fa98-bd8bafaf1221"
      },
      "source": [
        "#\n",
        "name=\"HKBK\"\n",
        "print(name[1])"
      ],
      "execution_count": null,
      "outputs": [
        {
          "output_type": "stream",
          "name": "stdout",
          "text": [
            "K\n"
          ]
        }
      ]
    },
    {
      "cell_type": "code",
      "metadata": {
        "colab": {
          "base_uri": "https://localhost:8080/"
        },
        "id": "SxfF2pXTb5ez",
        "outputId": "b39b6d59-c42d-40de-9885-07707b4684dd"
      },
      "source": [
        "#Slicing\n",
        "a=\"\"\"String\n",
        "is a popular\n",
        "datatype in\n",
        "python\"\"\"\n",
        "print(a[0:3])"
      ],
      "execution_count": null,
      "outputs": [
        {
          "output_type": "stream",
          "name": "stdout",
          "text": [
            "Str\n"
          ]
        }
      ]
    },
    {
      "cell_type": "code",
      "metadata": {
        "colab": {
          "base_uri": "https://localhost:8080/"
        },
        "id": "lkmG3RBkcG4W",
        "outputId": "7c84bfb7-db55-4a65-a5ba-ce521473c61d"
      },
      "source": [
        "#Negative Index\n",
        "a=\"\"\"String\n",
        "is a popular\n",
        "datatype in\n",
        "python\"\"\"\n",
        "print(a[-9:-1])"
      ],
      "execution_count": null,
      "outputs": [
        {
          "output_type": "stream",
          "name": "stdout",
          "text": [
            "in\n",
            "pytho\n"
          ]
        }
      ]
    },
    {
      "cell_type": "code",
      "metadata": {
        "colab": {
          "base_uri": "https://localhost:8080/"
        },
        "id": "0Yx1hHarcb_W",
        "outputId": "7cf47d2a-2e44-445b-881a-9874249280ef"
      },
      "source": [
        "#len()\n",
        "a=\"\"\"String\n",
        "is a popular\n",
        "datatype in\n",
        "python\"\"\"\n",
        "print(len(a))"
      ],
      "execution_count": null,
      "outputs": [
        {
          "output_type": "stream",
          "name": "stdout",
          "text": [
            "38\n"
          ]
        }
      ]
    },
    {
      "cell_type": "code",
      "metadata": {
        "colab": {
          "base_uri": "https://localhost:8080/"
        },
        "id": "BBegVeD6coGx",
        "outputId": "c7d632fb-ef1c-49dd-f910-387a09d867eb"
      },
      "source": [
        "#strip()\n",
        "a=\"\"\"  String \n",
        "is apopular\n",
        "datatype in\n",
        "python  \"\"\"\n",
        "print(a.strip())"
      ],
      "execution_count": null,
      "outputs": [
        {
          "output_type": "stream",
          "name": "stdout",
          "text": [
            "String \n",
            "is apopular\n",
            "datatype in\n",
            "python\n"
          ]
        }
      ]
    },
    {
      "cell_type": "code",
      "metadata": {
        "colab": {
          "base_uri": "https://localhost:8080/"
        },
        "id": "d_PQLl3jc5_I",
        "outputId": "7d6c2adb-86f7-4a37-850b-354f8fbd098b"
      },
      "source": [
        "#lower()\n",
        "a=\"\"\"String\n",
        "is a popular\n",
        "datatype in\n",
        "python\"\"\"\n",
        "print(a.lower())\n",
        "print(a.upper())"
      ],
      "execution_count": null,
      "outputs": [
        {
          "output_type": "stream",
          "name": "stdout",
          "text": [
            "string\n",
            "is a popular\n",
            "datatype in\n",
            "python\n",
            "STRING\n",
            "IS A POPULAR\n",
            "DATATYPE IN\n",
            "PYTHON\n"
          ]
        }
      ]
    },
    {
      "cell_type": "code",
      "metadata": {
        "colab": {
          "base_uri": "https://localhost:8080/"
        },
        "id": "6933GA39dQzr",
        "outputId": "2fb300b4-b592-4468-94a8-15706b3de798"
      },
      "source": [
        "#Replace()\n",
        "a=\"\"\"String\n",
        "is a popular \n",
        "datatype in\n",
        "python\"\"\"\n",
        "print(a.replace(\"popular\",\"unpopular\"))"
      ],
      "execution_count": null,
      "outputs": [
        {
          "output_type": "stream",
          "name": "stdout",
          "text": [
            "String\n",
            "is a unpopular \n",
            "datatype in\n",
            "python\n"
          ]
        }
      ]
    },
    {
      "cell_type": "code",
      "metadata": {
        "colab": {
          "base_uri": "https://localhost:8080/"
        },
        "id": "vYVqGXIPds7z",
        "outputId": "3f503393-c017-4b20-8b64-14530c41f6a7"
      },
      "source": [
        "#split()\n",
        "a=\"\"\"Vijay,Vidya,Ramya\"\"\"\n",
        "print(a.split(\",\"))"
      ],
      "execution_count": null,
      "outputs": [
        {
          "output_type": "stream",
          "name": "stdout",
          "text": [
            "['Vijay', 'Vidya', 'Ramya']\n"
          ]
        }
      ]
    },
    {
      "cell_type": "code",
      "metadata": {
        "id": "WONZ-3L9d_fJ",
        "colab": {
          "base_uri": "https://localhost:8080/"
        },
        "outputId": "fc1d55e0-7a36-415f-c8e4-2c824870f80d"
      },
      "source": [
        "#checkstring\n",
        "fruits=\"\"\"Apple,Mango,Orange\"\"\"\n",
        "x=\"Apple\" in fruits\n",
        "print(x)"
      ],
      "execution_count": 1,
      "outputs": [
        {
          "output_type": "stream",
          "name": "stdout",
          "text": [
            "True\n"
          ]
        }
      ]
    },
    {
      "cell_type": "code",
      "metadata": {
        "id": "i_9DL0i6eCpU",
        "colab": {
          "base_uri": "https://localhost:8080/"
        },
        "outputId": "7fc8440a-0f49-434f-b59c-b4b265b2f52c"
      },
      "source": [
        "#Concatenation\n",
        "f=\"Apple\"\n",
        "l=\"Mango\"\n",
        "fn=f+\"\"+l\n",
        "print(fn)"
      ],
      "execution_count": 2,
      "outputs": [
        {
          "output_type": "stream",
          "name": "stdout",
          "text": [
            "AppleMango\n"
          ]
        }
      ]
    },
    {
      "cell_type": "code",
      "metadata": {
        "colab": {
          "base_uri": "https://localhost:8080/"
        },
        "id": "el3dgzLGaTo_",
        "outputId": "45574bbb-c8df-4380-991a-77bb074897db"
      },
      "source": [
        "#StringFormat\n",
        "f=\"Vidya\"\n",
        "l=\"Ramya\"\n",
        "age=9\n",
        "fn=f+\"\"+l\n",
        "text=\"Student name is{},{}years old\"\n",
        "print (text.format(fn,age))"
      ],
      "execution_count": 3,
      "outputs": [
        {
          "output_type": "stream",
          "name": "stdout",
          "text": [
            "Student name isVidyaRamya,9years old\n"
          ]
        }
      ]
    },
    {
      "cell_type": "code",
      "metadata": {
        "id": "NEl6l5xPa4hn"
      },
      "source": [
        "#Escape character\n",
        "college=\"This STTP is hosted by \\\"hkbk\\\"\""
      ],
      "execution_count": 6,
      "outputs": []
    },
    {
      "cell_type": "code",
      "metadata": {
        "colab": {
          "base_uri": "https://localhost:8080/"
        },
        "id": "lmpq54KCbRnt",
        "outputId": "793e08f8-f11a-454f-f7a8-9282bfff0a45"
      },
      "source": [
        "#String Conversions\n",
        "rno=\"34\"\n",
        "print(type(rno))\n",
        "rno1=int (rno)\n",
        "print(type(rno1))\n",
        "f=float(\"5.2\")\n",
        "print(f)\n",
        "print(eval(\"5.2\"))"
      ],
      "execution_count": 8,
      "outputs": [
        {
          "output_type": "stream",
          "name": "stdout",
          "text": [
            "<class 'str'>\n",
            "<class 'int'>\n",
            "5.2\n",
            "5.2\n"
          ]
        }
      ]
    },
    {
      "cell_type": "code",
      "metadata": {
        "colab": {
          "base_uri": "https://localhost:8080/"
        },
        "id": "35uovCWFb_T_",
        "outputId": "6d9366d6-ab7c-4984-922c-39085d91327a"
      },
      "source": [
        "#Strings and secret codes\n",
        "n=eval(input(\"Enter the age:\"))\n",
        "print(n)\n",
        "print(type(n))"
      ],
      "execution_count": 9,
      "outputs": [
        {
          "output_type": "stream",
          "name": "stdout",
          "text": [
            "Enter the age:20\n",
            "20\n",
            "<class 'int'>\n"
          ]
        }
      ]
    },
    {
      "cell_type": "code",
      "metadata": {
        "colab": {
          "base_uri": "https://localhost:8080/"
        },
        "id": "M-RAiiAOcQqf",
        "outputId": "c69f7477-cf4d-48c7-d4ab-7d7aad2f4f8d"
      },
      "source": [
        "#Center()\n",
        "text=\"Text STTP is hosted by hkbk\"\n",
        "x=text.center(100,\"S\")\n",
        "print(x)"
      ],
      "execution_count": 11,
      "outputs": [
        {
          "output_type": "stream",
          "name": "stdout",
          "text": [
            "SSSSSSSSSSSSSSSSSSSSSSSSSSSSSSSSSSSSText STTP is hosted by hkbkSSSSSSSSSSSSSSSSSSSSSSSSSSSSSSSSSSSSS\n"
          ]
        }
      ]
    },
    {
      "cell_type": "code",
      "metadata": {
        "colab": {
          "base_uri": "https://localhost:8080/"
        },
        "id": "oTFzcjgZcubT",
        "outputId": "5a6aee32-7e45-4381-90fc-009c69ce9369"
      },
      "source": [
        "#String ends with function\n",
        "text=\"This STTP is hosted by hkbk\"\n",
        "x=text.endswith(\".\")\n",
        "print(x)"
      ],
      "execution_count": 12,
      "outputs": [
        {
          "output_type": "stream",
          "name": "stdout",
          "text": [
            "False\n"
          ]
        }
      ]
    },
    {
      "cell_type": "code",
      "metadata": {
        "colab": {
          "base_uri": "https://localhost:8080/"
        },
        "id": "nFWTwQiUdDg2",
        "outputId": "a89d2dd3-17cb-4940-cf3d-e58a062432fd"
      },
      "source": [
        "#Find()\n",
        "text=\"Text STTP is hosted by hkbk\"\n",
        "x=text.find(\"STTP\")\n",
        "print(x)"
      ],
      "execution_count": 14,
      "outputs": [
        {
          "output_type": "stream",
          "name": "stdout",
          "text": [
            "5\n"
          ]
        }
      ]
    }
  ]
}