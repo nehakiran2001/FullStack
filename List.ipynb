{
  "nbformat": 4,
  "nbformat_minor": 0,
  "metadata": {
    "colab": {
      "name": "List.ipynb",
      "provenance": [],
      "collapsed_sections": [],
      "authorship_tag": "ABX9TyOFI7tzMdeMG1L1Wkb2JblO",
      "include_colab_link": true
    },
    "kernelspec": {
      "name": "python3",
      "display_name": "Python 3"
    },
    "language_info": {
      "name": "python"
    }
  },
  "cells": [
    {
      "cell_type": "markdown",
      "metadata": {
        "id": "view-in-github",
        "colab_type": "text"
      },
      "source": [
        "<a href=\"https://colab.research.google.com/github/nehakiran2001/FullStack/blob/main/List.ipynb\" target=\"_parent\"><img src=\"https://colab.research.google.com/assets/colab-badge.svg\" alt=\"Open In Colab\"/></a>"
      ]
    },
    {
      "cell_type": "code",
      "metadata": {
        "colab": {
          "base_uri": "https://localhost:8080/"
        },
        "id": "9oQd2W5Xvc4_",
        "outputId": "e58624cd-d0b1-434f-ee01-26440bc77de9"
      },
      "source": [
        "#INDEXING with LIST\n",
        "fruitlist=[\"Mango\",\"Papaya\",\"Orange\",\"Pomegranate\",\"Kiwi\"]\n",
        "print(fruitlist)\n",
        "print(fruitlist[-1])\n",
        "print(fruitlist[4])\n",
        "print(fruitlist[:4])\n",
        "print(fruitlist[3:])"
      ],
      "execution_count": null,
      "outputs": [
        {
          "output_type": "stream",
          "name": "stdout",
          "text": [
            "['Mango', 'Papaya', 'Orange', 'Pomegranate', 'Kiwi']\n",
            "Kiwi\n",
            "Kiwi\n",
            "['Mango', 'Papaya', 'Orange', 'Pomegranate']\n",
            "['Pomegranate', 'Kiwi']\n"
          ]
        }
      ]
    },
    {
      "cell_type": "code",
      "metadata": {
        "colab": {
          "base_uri": "https://localhost:8080/"
        },
        "id": "mlfco6-LwP0r",
        "outputId": "dcc1a25b-28f0-458f-ecd1-eb2a76ab94b6"
      },
      "source": [
        "#REASSIGNMENT\n",
        "fruitlist=[\"Mango\",\"Papaya\",\"Orange\",\"Pomegranate\",\"Kiwi\"]\n",
        "fruitlist[1]=\"Strawberry\"\n",
        "print(fruitlist)"
      ],
      "execution_count": null,
      "outputs": [
        {
          "output_type": "stream",
          "name": "stdout",
          "text": [
            "['Mango', 'Strawberry', 'Orange', 'Pomegranate', 'Kiwi']\n"
          ]
        }
      ]
    },
    {
      "cell_type": "code",
      "metadata": {
        "colab": {
          "base_uri": "https://localhost:8080/"
        },
        "id": "g4ylF9DMxIN_",
        "outputId": "f8838eb0-1896-48a7-bb0b-cdceb7368769"
      },
      "source": [
        "#For all LIST ITEMS using LOOP\n",
        "fruitlist=[\"Mango\",\"Papaya\",\"Orange\",\"Pomegranate\",'Kiwi']\n",
        "for x in fruitlist:\n",
        "  print(x)\n"
      ],
      "execution_count": null,
      "outputs": [
        {
          "output_type": "stream",
          "name": "stdout",
          "text": [
            "Mango\n",
            "Papaya\n",
            "Orange\n",
            "Pomegranate\n",
            "Kiwi\n"
          ]
        }
      ]
    },
    {
      "cell_type": "code",
      "metadata": {
        "colab": {
          "base_uri": "https://localhost:8080/"
        },
        "id": "h75xV6HWxRMU",
        "outputId": "f0a30aa2-e5ab-4e5e-93b9-e861cc44842b"
      },
      "source": [
        "#LENGTH Of LIST\n",
        "fruitlist=[\"Mango\",\"Papaya\",\"Orange\",\"Pomegranate\",\"Kiwi\"]\n",
        "print(len(fruitlist))\n"
      ],
      "execution_count": null,
      "outputs": [
        {
          "output_type": "stream",
          "name": "stdout",
          "text": [
            "5\n"
          ]
        }
      ]
    },
    {
      "cell_type": "code",
      "metadata": {
        "colab": {
          "base_uri": "https://localhost:8080/"
        },
        "id": "Ches2m4WyCmW",
        "outputId": "9bbc359e-f4eb-4d13-9d34-d9e57be9a028"
      },
      "source": [
        "#ITEM Exits in LIST\n",
        "fruitlist=[\"Mango\",\"Papaya\",\"Orange\",\"Pomegranate\",\"Kiwi\"]\n",
        "key=input(\"Enter a fruit to search\")\n",
        "if key in fruitlist:\n",
        "  print('Yes, key is in the list')\n",
        "else:\n",
        "  print(\"Key is not found in the list\")  "
      ],
      "execution_count": null,
      "outputs": [
        {
          "output_type": "stream",
          "name": "stdout",
          "text": [
            "Enter a fruit to searchOrange\n",
            "Yes, key is in the list\n"
          ]
        }
      ]
    },
    {
      "cell_type": "code",
      "metadata": {
        "colab": {
          "base_uri": "https://localhost:8080/"
        },
        "id": "s5CumTWmyrIa",
        "outputId": "ae6458bc-562e-42bd-a5e0-0e1c1e0c2e33"
      },
      "source": [
        "#Adding elements at END of the LIST\n",
        "fruitlist=['Mango',\"Papaya\",\"Orange\",\"Pomegranate\",\"Kiwi\"]\n",
        "fruitlist.append(\"Avacado\")\n",
        "print(fruitlist)"
      ],
      "execution_count": null,
      "outputs": [
        {
          "output_type": "stream",
          "name": "stdout",
          "text": [
            "['Mango', 'Papaya', 'Orange', 'Pomegranate', 'Kiwi', 'Avacado']\n"
          ]
        }
      ]
    },
    {
      "cell_type": "code",
      "metadata": {
        "colab": {
          "base_uri": "https://localhost:8080/"
        },
        "id": "29qV2lHezH62",
        "outputId": "72c643e9-c3a7-4534-873b-6ed237f95264"
      },
      "source": [
        "#Adding elements at the MIDDLE of the LIST\n",
        "fruitlist=[\"Mango\",\"Papaya\",\"Orange\",\"Pomegranate\",\"Kiwi\"]\n",
        "fruitlist.insert(1,\"Pear\")\n",
        "print(fruitlist)"
      ],
      "execution_count": null,
      "outputs": [
        {
          "output_type": "stream",
          "name": "stdout",
          "text": [
            "['Mango', 'Pear', 'Papaya', 'Orange', 'Pomegranate', 'Kiwi']\n"
          ]
        }
      ]
    },
    {
      "cell_type": "code",
      "metadata": {
        "colab": {
          "base_uri": "https://localhost:8080/"
        },
        "id": "paJxiUQ6zmbQ",
        "outputId": "90ff3ef8-5426-4207-c436-83196e81f714"
      },
      "source": [
        "#Removing Elements\n",
        "fruitlist=[\"Mango\",\"Papaya\",\"Orange\",\"Pomegranate\",\"Kiwi\"]\n",
        "fruitlist.remove(\"Pomegranate\")\n",
        "print(fruitlist)\n",
        "fruitlist.pop()\n",
        "print(fruitlist)\n",
        "del fruitlist[2]\n",
        "print(fruitlist)\n",
        "fruitlist.clear()\n",
        "print(fruitlist)"
      ],
      "execution_count": null,
      "outputs": [
        {
          "output_type": "stream",
          "name": "stdout",
          "text": [
            "['Mango', 'Papaya', 'Orange', 'Kiwi']\n",
            "['Mango', 'Papaya', 'Orange']\n",
            "['Mango', 'Papaya']\n",
            "[]\n"
          ]
        }
      ]
    },
    {
      "cell_type": "code",
      "metadata": {
        "colab": {
          "base_uri": "https://localhost:8080/"
        },
        "id": "SwUgfpK80yV_",
        "outputId": "8653916e-2d00-4862-827c-f3048a8e585a"
      },
      "source": [
        "#Copy Constructor\n",
        "fruitlist=[\"Mango\",\"Papaya\",\"Orange\",\"Pomegranate\",\"Kiwi\"]\n",
        "fruitlist1=list(fruitlist)\n",
        "print(fruitlist1)"
      ],
      "execution_count": null,
      "outputs": [
        {
          "output_type": "stream",
          "name": "stdout",
          "text": [
            "['Mango', 'Papaya', 'Orange', 'Pomegranate', 'Kiwi']\n"
          ]
        }
      ]
    },
    {
      "cell_type": "code",
      "metadata": {
        "colab": {
          "base_uri": "https://localhost:8080/"
        },
        "id": "7Uq4tXHJ1faI",
        "outputId": "5c118168-3c54-4f56-aee2-147a2f098063"
      },
      "source": [
        "#Copy Method\n",
        "fruitlist=[\"Mango\",\"Papaya\",\"Orange\",\"Pomegranate\",\"Kiwi\"]\n",
        "fruitlist1=fruitlist.copy()\n",
        "print(fruitlist1)"
      ],
      "execution_count": null,
      "outputs": [
        {
          "output_type": "stream",
          "name": "stdout",
          "text": [
            "['Mango', 'Papaya', 'Orange', 'Pomegranate', 'Kiwi']\n"
          ]
        }
      ]
    },
    {
      "cell_type": "code",
      "metadata": {
        "colab": {
          "base_uri": "https://localhost:8080/"
        },
        "id": "pKPTNy_j12iJ",
        "outputId": "54aa8f16-c441-45d3-bf6a-c14e45984bd3"
      },
      "source": [
        "#Joining Two LIST\n",
        "fruitlist=[\"Mango\",\"Papaya\",\"Orange\",\"Pomegranate\",\"Kiwi\"]\n",
        "fruitlist1=[\"Pear\",\"Apple\",\"Banana\"]\n",
        "fruit_new=fruitlist1+fruitlist\n",
        "print(fruit_new)\n",
        "for x in fruitlist:\n",
        "  fruitlist1.append(x)\n",
        "  print(fruitlist1)\n",
        "  fruitlist1.extend(fruitlist)\n",
        "  print(fruitlist1)"
      ],
      "execution_count": null,
      "outputs": [
        {
          "output_type": "stream",
          "name": "stdout",
          "text": [
            "['Pear', 'Apple', 'Banana', 'Mango', 'Papaya', 'Orange', 'Pomegranate', 'Kiwi']\n",
            "['Pear', 'Apple', 'Banana', 'Mango']\n",
            "['Pear', 'Apple', 'Banana', 'Mango', 'Mango', 'Papaya', 'Orange', 'Pomegranate', 'Kiwi']\n",
            "['Pear', 'Apple', 'Banana', 'Mango', 'Mango', 'Papaya', 'Orange', 'Pomegranate', 'Kiwi', 'Papaya']\n",
            "['Pear', 'Apple', 'Banana', 'Mango', 'Mango', 'Papaya', 'Orange', 'Pomegranate', 'Kiwi', 'Papaya', 'Mango', 'Papaya', 'Orange', 'Pomegranate', 'Kiwi']\n",
            "['Pear', 'Apple', 'Banana', 'Mango', 'Mango', 'Papaya', 'Orange', 'Pomegranate', 'Kiwi', 'Papaya', 'Mango', 'Papaya', 'Orange', 'Pomegranate', 'Kiwi', 'Orange']\n",
            "['Pear', 'Apple', 'Banana', 'Mango', 'Mango', 'Papaya', 'Orange', 'Pomegranate', 'Kiwi', 'Papaya', 'Mango', 'Papaya', 'Orange', 'Pomegranate', 'Kiwi', 'Orange', 'Mango', 'Papaya', 'Orange', 'Pomegranate', 'Kiwi']\n",
            "['Pear', 'Apple', 'Banana', 'Mango', 'Mango', 'Papaya', 'Orange', 'Pomegranate', 'Kiwi', 'Papaya', 'Mango', 'Papaya', 'Orange', 'Pomegranate', 'Kiwi', 'Orange', 'Mango', 'Papaya', 'Orange', 'Pomegranate', 'Kiwi', 'Pomegranate']\n",
            "['Pear', 'Apple', 'Banana', 'Mango', 'Mango', 'Papaya', 'Orange', 'Pomegranate', 'Kiwi', 'Papaya', 'Mango', 'Papaya', 'Orange', 'Pomegranate', 'Kiwi', 'Orange', 'Mango', 'Papaya', 'Orange', 'Pomegranate', 'Kiwi', 'Pomegranate', 'Mango', 'Papaya', 'Orange', 'Pomegranate', 'Kiwi']\n",
            "['Pear', 'Apple', 'Banana', 'Mango', 'Mango', 'Papaya', 'Orange', 'Pomegranate', 'Kiwi', 'Papaya', 'Mango', 'Papaya', 'Orange', 'Pomegranate', 'Kiwi', 'Orange', 'Mango', 'Papaya', 'Orange', 'Pomegranate', 'Kiwi', 'Pomegranate', 'Mango', 'Papaya', 'Orange', 'Pomegranate', 'Kiwi', 'Kiwi']\n",
            "['Pear', 'Apple', 'Banana', 'Mango', 'Mango', 'Papaya', 'Orange', 'Pomegranate', 'Kiwi', 'Papaya', 'Mango', 'Papaya', 'Orange', 'Pomegranate', 'Kiwi', 'Orange', 'Mango', 'Papaya', 'Orange', 'Pomegranate', 'Kiwi', 'Pomegranate', 'Mango', 'Papaya', 'Orange', 'Pomegranate', 'Kiwi', 'Kiwi', 'Mango', 'Papaya', 'Orange', 'Pomegranate', 'Kiwi']\n"
          ]
        }
      ]
    },
    {
      "cell_type": "code",
      "metadata": {
        "colab": {
          "base_uri": "https://localhost:8080/"
        },
        "id": "Pa3tJqZN3IPa",
        "outputId": "afa5190a-ee11-4c68-e3e7-34e6b239813e"
      },
      "source": [
        "#SORT and REVERSE\n",
        "fruitlist=list((\"Mango\",\"Apple\",\"Papaya\",\"Orange\",\"Banana\"))\n",
        "fruitlist.sort()\n",
        "print(fruitlist)\n",
        "fruitlist.reverse()\n",
        "print(fruitlist)"
      ],
      "execution_count": null,
      "outputs": [
        {
          "output_type": "stream",
          "name": "stdout",
          "text": [
            "['Apple', 'Banana', 'Mango', 'Orange', 'Papaya']\n",
            "['Papaya', 'Orange', 'Mango', 'Banana', 'Apple']\n"
          ]
        }
      ]
    },
    {
      "cell_type": "code",
      "metadata": {
        "colab": {
          "base_uri": "https://localhost:8080/"
        },
        "id": "f2YzJQvb3pNr",
        "outputId": "b4850704-3490-424b-f9d4-77533757cdad"
      },
      "source": [
        "#LIST Comprehension\n",
        "rno=[]\n",
        "for x in range(55):\n",
        "  rno.append(x)\n",
        "  print(rno)"
      ],
      "execution_count": null,
      "outputs": [
        {
          "output_type": "stream",
          "name": "stdout",
          "text": [
            "[0]\n",
            "[0, 1]\n",
            "[0, 1, 2]\n",
            "[0, 1, 2, 3]\n",
            "[0, 1, 2, 3, 4]\n",
            "[0, 1, 2, 3, 4, 5]\n",
            "[0, 1, 2, 3, 4, 5, 6]\n",
            "[0, 1, 2, 3, 4, 5, 6, 7]\n",
            "[0, 1, 2, 3, 4, 5, 6, 7, 8]\n",
            "[0, 1, 2, 3, 4, 5, 6, 7, 8, 9]\n",
            "[0, 1, 2, 3, 4, 5, 6, 7, 8, 9, 10]\n",
            "[0, 1, 2, 3, 4, 5, 6, 7, 8, 9, 10, 11]\n",
            "[0, 1, 2, 3, 4, 5, 6, 7, 8, 9, 10, 11, 12]\n",
            "[0, 1, 2, 3, 4, 5, 6, 7, 8, 9, 10, 11, 12, 13]\n",
            "[0, 1, 2, 3, 4, 5, 6, 7, 8, 9, 10, 11, 12, 13, 14]\n",
            "[0, 1, 2, 3, 4, 5, 6, 7, 8, 9, 10, 11, 12, 13, 14, 15]\n",
            "[0, 1, 2, 3, 4, 5, 6, 7, 8, 9, 10, 11, 12, 13, 14, 15, 16]\n",
            "[0, 1, 2, 3, 4, 5, 6, 7, 8, 9, 10, 11, 12, 13, 14, 15, 16, 17]\n",
            "[0, 1, 2, 3, 4, 5, 6, 7, 8, 9, 10, 11, 12, 13, 14, 15, 16, 17, 18]\n",
            "[0, 1, 2, 3, 4, 5, 6, 7, 8, 9, 10, 11, 12, 13, 14, 15, 16, 17, 18, 19]\n",
            "[0, 1, 2, 3, 4, 5, 6, 7, 8, 9, 10, 11, 12, 13, 14, 15, 16, 17, 18, 19, 20]\n",
            "[0, 1, 2, 3, 4, 5, 6, 7, 8, 9, 10, 11, 12, 13, 14, 15, 16, 17, 18, 19, 20, 21]\n",
            "[0, 1, 2, 3, 4, 5, 6, 7, 8, 9, 10, 11, 12, 13, 14, 15, 16, 17, 18, 19, 20, 21, 22]\n",
            "[0, 1, 2, 3, 4, 5, 6, 7, 8, 9, 10, 11, 12, 13, 14, 15, 16, 17, 18, 19, 20, 21, 22, 23]\n",
            "[0, 1, 2, 3, 4, 5, 6, 7, 8, 9, 10, 11, 12, 13, 14, 15, 16, 17, 18, 19, 20, 21, 22, 23, 24]\n",
            "[0, 1, 2, 3, 4, 5, 6, 7, 8, 9, 10, 11, 12, 13, 14, 15, 16, 17, 18, 19, 20, 21, 22, 23, 24, 25]\n",
            "[0, 1, 2, 3, 4, 5, 6, 7, 8, 9, 10, 11, 12, 13, 14, 15, 16, 17, 18, 19, 20, 21, 22, 23, 24, 25, 26]\n",
            "[0, 1, 2, 3, 4, 5, 6, 7, 8, 9, 10, 11, 12, 13, 14, 15, 16, 17, 18, 19, 20, 21, 22, 23, 24, 25, 26, 27]\n",
            "[0, 1, 2, 3, 4, 5, 6, 7, 8, 9, 10, 11, 12, 13, 14, 15, 16, 17, 18, 19, 20, 21, 22, 23, 24, 25, 26, 27, 28]\n",
            "[0, 1, 2, 3, 4, 5, 6, 7, 8, 9, 10, 11, 12, 13, 14, 15, 16, 17, 18, 19, 20, 21, 22, 23, 24, 25, 26, 27, 28, 29]\n",
            "[0, 1, 2, 3, 4, 5, 6, 7, 8, 9, 10, 11, 12, 13, 14, 15, 16, 17, 18, 19, 20, 21, 22, 23, 24, 25, 26, 27, 28, 29, 30]\n",
            "[0, 1, 2, 3, 4, 5, 6, 7, 8, 9, 10, 11, 12, 13, 14, 15, 16, 17, 18, 19, 20, 21, 22, 23, 24, 25, 26, 27, 28, 29, 30, 31]\n",
            "[0, 1, 2, 3, 4, 5, 6, 7, 8, 9, 10, 11, 12, 13, 14, 15, 16, 17, 18, 19, 20, 21, 22, 23, 24, 25, 26, 27, 28, 29, 30, 31, 32]\n",
            "[0, 1, 2, 3, 4, 5, 6, 7, 8, 9, 10, 11, 12, 13, 14, 15, 16, 17, 18, 19, 20, 21, 22, 23, 24, 25, 26, 27, 28, 29, 30, 31, 32, 33]\n",
            "[0, 1, 2, 3, 4, 5, 6, 7, 8, 9, 10, 11, 12, 13, 14, 15, 16, 17, 18, 19, 20, 21, 22, 23, 24, 25, 26, 27, 28, 29, 30, 31, 32, 33, 34]\n",
            "[0, 1, 2, 3, 4, 5, 6, 7, 8, 9, 10, 11, 12, 13, 14, 15, 16, 17, 18, 19, 20, 21, 22, 23, 24, 25, 26, 27, 28, 29, 30, 31, 32, 33, 34, 35]\n",
            "[0, 1, 2, 3, 4, 5, 6, 7, 8, 9, 10, 11, 12, 13, 14, 15, 16, 17, 18, 19, 20, 21, 22, 23, 24, 25, 26, 27, 28, 29, 30, 31, 32, 33, 34, 35, 36]\n",
            "[0, 1, 2, 3, 4, 5, 6, 7, 8, 9, 10, 11, 12, 13, 14, 15, 16, 17, 18, 19, 20, 21, 22, 23, 24, 25, 26, 27, 28, 29, 30, 31, 32, 33, 34, 35, 36, 37]\n",
            "[0, 1, 2, 3, 4, 5, 6, 7, 8, 9, 10, 11, 12, 13, 14, 15, 16, 17, 18, 19, 20, 21, 22, 23, 24, 25, 26, 27, 28, 29, 30, 31, 32, 33, 34, 35, 36, 37, 38]\n",
            "[0, 1, 2, 3, 4, 5, 6, 7, 8, 9, 10, 11, 12, 13, 14, 15, 16, 17, 18, 19, 20, 21, 22, 23, 24, 25, 26, 27, 28, 29, 30, 31, 32, 33, 34, 35, 36, 37, 38, 39]\n",
            "[0, 1, 2, 3, 4, 5, 6, 7, 8, 9, 10, 11, 12, 13, 14, 15, 16, 17, 18, 19, 20, 21, 22, 23, 24, 25, 26, 27, 28, 29, 30, 31, 32, 33, 34, 35, 36, 37, 38, 39, 40]\n",
            "[0, 1, 2, 3, 4, 5, 6, 7, 8, 9, 10, 11, 12, 13, 14, 15, 16, 17, 18, 19, 20, 21, 22, 23, 24, 25, 26, 27, 28, 29, 30, 31, 32, 33, 34, 35, 36, 37, 38, 39, 40, 41]\n",
            "[0, 1, 2, 3, 4, 5, 6, 7, 8, 9, 10, 11, 12, 13, 14, 15, 16, 17, 18, 19, 20, 21, 22, 23, 24, 25, 26, 27, 28, 29, 30, 31, 32, 33, 34, 35, 36, 37, 38, 39, 40, 41, 42]\n",
            "[0, 1, 2, 3, 4, 5, 6, 7, 8, 9, 10, 11, 12, 13, 14, 15, 16, 17, 18, 19, 20, 21, 22, 23, 24, 25, 26, 27, 28, 29, 30, 31, 32, 33, 34, 35, 36, 37, 38, 39, 40, 41, 42, 43]\n",
            "[0, 1, 2, 3, 4, 5, 6, 7, 8, 9, 10, 11, 12, 13, 14, 15, 16, 17, 18, 19, 20, 21, 22, 23, 24, 25, 26, 27, 28, 29, 30, 31, 32, 33, 34, 35, 36, 37, 38, 39, 40, 41, 42, 43, 44]\n",
            "[0, 1, 2, 3, 4, 5, 6, 7, 8, 9, 10, 11, 12, 13, 14, 15, 16, 17, 18, 19, 20, 21, 22, 23, 24, 25, 26, 27, 28, 29, 30, 31, 32, 33, 34, 35, 36, 37, 38, 39, 40, 41, 42, 43, 44, 45]\n",
            "[0, 1, 2, 3, 4, 5, 6, 7, 8, 9, 10, 11, 12, 13, 14, 15, 16, 17, 18, 19, 20, 21, 22, 23, 24, 25, 26, 27, 28, 29, 30, 31, 32, 33, 34, 35, 36, 37, 38, 39, 40, 41, 42, 43, 44, 45, 46]\n",
            "[0, 1, 2, 3, 4, 5, 6, 7, 8, 9, 10, 11, 12, 13, 14, 15, 16, 17, 18, 19, 20, 21, 22, 23, 24, 25, 26, 27, 28, 29, 30, 31, 32, 33, 34, 35, 36, 37, 38, 39, 40, 41, 42, 43, 44, 45, 46, 47]\n",
            "[0, 1, 2, 3, 4, 5, 6, 7, 8, 9, 10, 11, 12, 13, 14, 15, 16, 17, 18, 19, 20, 21, 22, 23, 24, 25, 26, 27, 28, 29, 30, 31, 32, 33, 34, 35, 36, 37, 38, 39, 40, 41, 42, 43, 44, 45, 46, 47, 48]\n",
            "[0, 1, 2, 3, 4, 5, 6, 7, 8, 9, 10, 11, 12, 13, 14, 15, 16, 17, 18, 19, 20, 21, 22, 23, 24, 25, 26, 27, 28, 29, 30, 31, 32, 33, 34, 35, 36, 37, 38, 39, 40, 41, 42, 43, 44, 45, 46, 47, 48, 49]\n",
            "[0, 1, 2, 3, 4, 5, 6, 7, 8, 9, 10, 11, 12, 13, 14, 15, 16, 17, 18, 19, 20, 21, 22, 23, 24, 25, 26, 27, 28, 29, 30, 31, 32, 33, 34, 35, 36, 37, 38, 39, 40, 41, 42, 43, 44, 45, 46, 47, 48, 49, 50]\n",
            "[0, 1, 2, 3, 4, 5, 6, 7, 8, 9, 10, 11, 12, 13, 14, 15, 16, 17, 18, 19, 20, 21, 22, 23, 24, 25, 26, 27, 28, 29, 30, 31, 32, 33, 34, 35, 36, 37, 38, 39, 40, 41, 42, 43, 44, 45, 46, 47, 48, 49, 50, 51]\n",
            "[0, 1, 2, 3, 4, 5, 6, 7, 8, 9, 10, 11, 12, 13, 14, 15, 16, 17, 18, 19, 20, 21, 22, 23, 24, 25, 26, 27, 28, 29, 30, 31, 32, 33, 34, 35, 36, 37, 38, 39, 40, 41, 42, 43, 44, 45, 46, 47, 48, 49, 50, 51, 52]\n",
            "[0, 1, 2, 3, 4, 5, 6, 7, 8, 9, 10, 11, 12, 13, 14, 15, 16, 17, 18, 19, 20, 21, 22, 23, 24, 25, 26, 27, 28, 29, 30, 31, 32, 33, 34, 35, 36, 37, 38, 39, 40, 41, 42, 43, 44, 45, 46, 47, 48, 49, 50, 51, 52, 53]\n",
            "[0, 1, 2, 3, 4, 5, 6, 7, 8, 9, 10, 11, 12, 13, 14, 15, 16, 17, 18, 19, 20, 21, 22, 23, 24, 25, 26, 27, 28, 29, 30, 31, 32, 33, 34, 35, 36, 37, 38, 39, 40, 41, 42, 43, 44, 45, 46, 47, 48, 49, 50, 51, 52, 53, 54]\n"
          ]
        }
      ]
    },
    {
      "cell_type": "code",
      "metadata": {
        "colab": {
          "base_uri": "https://localhost:8080/"
        },
        "id": "MkJzElYz5RyW",
        "outputId": "c89ca011-96ce-4ded-8fc4-135fe7255d8e"
      },
      "source": [
        "#Count number of Vowels in the String\n",
        "string=input(\"Enter the string\")\n",
        "vowels=0\n",
        "for i in string:\n",
        "  if (i=='a'or i=='e' or i=='i' or i=='o' or i=='u' or i=='A' or i=='E' or i=='I' or i=='O' or i=='U'):\n",
        "    vowels = vowels+1\n",
        "  print(\"Number of vowels are:\")\n",
        "  print(vowels)\n"
      ],
      "execution_count": null,
      "outputs": [
        {
          "output_type": "stream",
          "name": "stdout",
          "text": [
            "stringJAVA\n",
            "Number of vowels are:\n",
            "0\n",
            "Number of vowels are:\n",
            "1\n",
            "Number of vowels are:\n",
            "1\n",
            "Number of vowels are:\n",
            "2\n"
          ]
        }
      ]
    },
    {
      "cell_type": "code",
      "metadata": {
        "colab": {
          "base_uri": "https://localhost:8080/"
        },
        "id": "Ie3MXMdY90n_",
        "outputId": "7d60f221-08ff-4978-eecd-b0917fc189f7"
      },
      "source": [
        "#Replace character a with $ using Replace function\n",
        "string=input(\"Enter the string\")\n",
        "string=string.replace('a','$')\n",
        "string=string.replace('A','$')\n",
        "print(string)"
      ],
      "execution_count": null,
      "outputs": [
        {
          "output_type": "stream",
          "name": "stdout",
          "text": [
            "Enter the stringJAVA\n",
            "J$V$\n"
          ]
        }
      ]
    },
    {
      "cell_type": "code",
      "metadata": {
        "colab": {
          "base_uri": "https://localhost:8080/"
        },
        "id": "6v2WWWtN-yYX",
        "outputId": "9c8ed7bb-3f15-4255-f71e-d0ee0298f282"
      },
      "source": [
        "#Add two number by keyboard and display result in format \"Sum of n1 and n2 is N\"\n",
        "n1=int(input(\"Enter the string\"))\n",
        "n2=int(input(\"Enter the string\"))\n",
        "\n",
        "N=n1+n2\n",
        "\n",
        "print(\"Sum of {0} and {1} is {2}\".format(n1,n2,N))\n"
      ],
      "execution_count": null,
      "outputs": [
        {
          "output_type": "stream",
          "name": "stdout",
          "text": [
            "Enter the string5\n",
            "Enter the string6\n",
            "Sum of 5 and 6 is 11\n"
          ]
        }
      ]
    },
    {
      "cell_type": "code",
      "metadata": {
        "colab": {
          "base_uri": "https://localhost:8080/"
        },
        "id": "mdwNKYMSEGjT",
        "outputId": "811d56f7-672b-46f9-8c05-ce4376ef0cd6"
      },
      "source": [
        "#Random Numbers\n",
        "import random\n",
        "print(\"Random integers between 0 to 9:\")\n",
        "for _ in range(10):\n",
        "  y = random.randrange(0, 9)\n",
        "\n",
        "  print(y)  "
      ],
      "execution_count": 70,
      "outputs": [
        {
          "output_type": "stream",
          "name": "stdout",
          "text": [
            "Random integers between 0 to 9:\n",
            "8\n",
            "8\n",
            "1\n",
            "1\n",
            "4\n",
            "0\n",
            "3\n",
            "4\n",
            "7\n",
            "5\n"
          ]
        }
      ]
    },
    {
      "cell_type": "code",
      "metadata": {
        "colab": {
          "base_uri": "https://localhost:8080/"
        },
        "id": "Ds58IYMCDWkJ",
        "outputId": "1fc566db-7803-4c6a-ae7b-c1659dd78cbd"
      },
      "source": [
        "#Convert kilo to miles\n",
        "kilo=int(input(\"Enter the kilo\"))\n",
        "miles=kilo*0.62\n",
        "print(miles)"
      ],
      "execution_count": null,
      "outputs": [
        {
          "output_type": "stream",
          "name": "stdout",
          "text": [
            "Enter the kilo10\n",
            "6.2\n"
          ]
        }
      ]
    },
    {
      "cell_type": "code",
      "metadata": {
        "id": "84Fpz-h9Fj_d"
      },
      "source": [
        "#To form STRING where first and last characters are exchanged\n",
        "def change(string):\n",
        "  return string[-1:]+string[1:-1]+string[:1]\n",
        "  string=input(\"Enter the string:\")\n",
        "  print(\"Modified string:\")\n",
        "  print(change(string))"
      ],
      "execution_count": 3,
      "outputs": []
    },
    {
      "cell_type": "code",
      "metadata": {
        "colab": {
          "base_uri": "https://localhost:8080/"
        },
        "id": "dW33BJ0KiCuP",
        "outputId": "f95504c6-46d1-427d-8444-2ff6a1dbf1e5"
      },
      "source": [
        "  #To check year is leap year or not\n",
        "year=int(input(\"Enter the year\"))\n",
        "if (year % 4)== 0:\n",
        "    if (year % 100)== 0:\n",
        "      if (year % 400)== 0: \n",
        "          print(\"{0} is a leap year\".format(year)) \n",
        "      else:   \n",
        "       print(\"{0} is not a leap year\".format(year))\n",
        "    else:\n",
        "     print(\"{0} is a leap year\".format(year)) \n",
        "  else:\n",
        "   print(\"{0} is not a leap year\".format(year))     "
      ],
      "execution_count": 56,
      "outputs": [
        {
          "output_type": "stream",
          "name": "stdout",
          "text": [
            "Enter the year2000\n",
            "2000 is a leap year\n"
          ]
        }
      ]
    },
    {
      "cell_type": "code",
      "metadata": {
        "colab": {
          "base_uri": "https://localhost:8080/"
        },
        "id": "ot54PfDHjOhH",
        "outputId": "9392071c-f477-4496-d096-83289b02dde6"
      },
      "source": [
        "#To find length of string without using len() function\n",
        "string=input(\"Enter the string:\")\n",
        "count=0\n",
        "for i in string:\n",
        "  count+=1\n",
        "  print(count)"
      ],
      "execution_count": 7,
      "outputs": [
        {
          "output_type": "stream",
          "name": "stdout",
          "text": [
            "Enter the string:Python\n",
            "1\n",
            "2\n",
            "3\n",
            "4\n",
            "5\n",
            "6\n"
          ]
        }
      ]
    },
    {
      "cell_type": "code",
      "metadata": {
        "colab": {
          "base_uri": "https://localhost:8080/"
        },
        "id": "YHZPXWcRj7TU",
        "outputId": "19bff214-fe37-431c-acdd-c5abaca216bd"
      },
      "source": [
        "#Compound Interest\n",
        "p= float (input(\"Enter principal amount:\"))\n",
        "r= float (input(\"Enter the interest value\"))\n",
        "n= float(input(\"Enter the number of times that interest is compounded per year: \"))\n",
        "amount= p*((1+n*r)/100)*n \n",
        "print(amount)"
      ],
      "execution_count": 12,
      "outputs": [
        {
          "output_type": "stream",
          "name": "stdout",
          "text": [
            "Enter principal amount:10\n",
            "Enter the interest value5\n",
            "Enter the number of times that interest is compounded per year: 8\n",
            "32.8\n"
          ]
        }
      ]
    },
    {
      "cell_type": "code",
      "metadata": {
        "colab": {
          "base_uri": "https://localhost:8080/"
        },
        "id": "zmctHFPHlAEZ",
        "outputId": "d0743f3e-e9c0-4efe-a07a-33ce2c1883db"
      },
      "source": [
        "#Greater of three numbers\n",
        "num1 = int (input(\"Enter first number:\"))\n",
        "num2 = int (input(\"Enter second number\"))\n",
        "num3 = int (input(\"Enter third number\"))\n",
        "if (num1 >= num2) and (num1 >= num3):\n",
        "  greatest = num1\n",
        "elif (num2 >= num1) and (num2 >= num3):\n",
        "  greatest = num2\n",
        "else:\n",
        "  greatest = num3\n",
        "  print( greatest)  "
      ],
      "execution_count": 21,
      "outputs": [
        {
          "output_type": "stream",
          "name": "stdout",
          "text": [
            "Enter first number:26\n",
            "Enter second number45\n",
            "Enter third number87\n",
            "87\n"
          ]
        }
      ]
    },
    {
      "cell_type": "code",
      "metadata": {
        "colab": {
          "base_uri": "https://localhost:8080/"
        },
        "id": "Jtf8zriUpocO",
        "outputId": "7bdf62ae-e81b-4d93-c7cb-a2e4dd395ded"
      },
      "source": [
        "#Number is odd or even\n",
        "num=int(input(\"Enter a number:\"))\n",
        "if (num%2)==0:\n",
        "  print(\"{0} is Even\".format(num))\n",
        "else:\n",
        "  print(\"{0} is Odd\".format(num))  "
      ],
      "execution_count": 22,
      "outputs": [
        {
          "output_type": "stream",
          "name": "stdout",
          "text": [
            "Enter a number:26\n",
            "26 is Even\n"
          ]
        }
      ]
    }
  ]
}